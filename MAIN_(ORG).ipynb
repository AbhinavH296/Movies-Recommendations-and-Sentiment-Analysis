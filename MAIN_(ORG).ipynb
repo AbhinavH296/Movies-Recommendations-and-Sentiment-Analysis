{
  "cells": [
    {
      "cell_type": "code",
      "execution_count": null,
      "metadata": {
        "colab": {
          "base_uri": "https://localhost:8080/",
          "height": 1000
        },
        "id": "6lNEBpsVbqfM",
        "outputId": "056a8de9-f037-4f80-fd5f-0a5574154732"
      },
      "outputs": [],
      "source": [
        "!pip install pycaret"
      ]
    },
    {
      "cell_type": "code",
      "execution_count": 1,
      "metadata": {
        "id": "9rtBuRYl_xxL"
      },
      "outputs": [],
      "source": [
        "# Import necessary libraries\n",
        "import pandas as pd  # Used for data manipulation and analysis\n",
        "import numpy as np  # Used for numerical operations\n",
        "from sklearn.feature_extraction.text import TfidfVectorizer  # Used for text vectorization\n",
        "from imblearn.over_sampling import SMOTE  # Used for handling imbalanced datasets\n",
        "import warnings  # Used for managing warnings\n",
        "warnings.filterwarnings(\"ignore\")  # Ignores warnings during execution\n",
        "\n",
        "# PyCaret Script\n",
        "import pandas as pd  # Used for data manipulation and analysis\n",
        "from pycaret.classification import *  # Imports all modules from pycaret.classification\n",
        "from textblob import TextBlob  # Used for sentiment analysis\n"
      ]
    },
    {
      "cell_type": "code",
      "execution_count": 2,
      "metadata": {
        "id": "2tdS72QkMyEN"
      },
      "outputs": [],
      "source": [
        "df=pd.read_csv('imdb-movies-dataset.csv')"
      ]
    },
    {
      "cell_type": "code",
      "execution_count": 3,
      "metadata": {
        "colab": {
          "base_uri": "https://localhost:8080/",
          "height": 317
        },
        "id": "_gUVNgmtM3iH",
        "outputId": "527fa71d-0d1a-4730-e136-3095753c2c54"
      },
      "outputs": [
        {
          "data": {
            "text/html": [
              "<div>\n",
              "<style scoped>\n",
              "    .dataframe tbody tr th:only-of-type {\n",
              "        vertical-align: middle;\n",
              "    }\n",
              "\n",
              "    .dataframe tbody tr th {\n",
              "        vertical-align: top;\n",
              "    }\n",
              "\n",
              "    .dataframe thead th {\n",
              "        text-align: right;\n",
              "    }\n",
              "</style>\n",
              "<table border=\"1\" class=\"dataframe\">\n",
              "  <thead>\n",
              "    <tr style=\"text-align: right;\">\n",
              "      <th></th>\n",
              "      <th>Poster</th>\n",
              "      <th>Title</th>\n",
              "      <th>Year</th>\n",
              "      <th>Certificate</th>\n",
              "      <th>Duration (min)</th>\n",
              "      <th>Genre</th>\n",
              "      <th>Rating</th>\n",
              "      <th>Metascore</th>\n",
              "      <th>Director</th>\n",
              "      <th>Cast</th>\n",
              "      <th>Votes</th>\n",
              "      <th>Description</th>\n",
              "      <th>Review Count</th>\n",
              "      <th>Review Title</th>\n",
              "      <th>Review</th>\n",
              "    </tr>\n",
              "  </thead>\n",
              "  <tbody>\n",
              "    <tr>\n",
              "      <th>0</th>\n",
              "      <td>https://m.media-amazon.com/images/M/MV5BYWRkZj...</td>\n",
              "      <td>The Idea of You</td>\n",
              "      <td>2023.0</td>\n",
              "      <td>R</td>\n",
              "      <td>115.0</td>\n",
              "      <td>Comedy, Drama, Romance</td>\n",
              "      <td>6.4</td>\n",
              "      <td>67.0</td>\n",
              "      <td>Michael Showalter</td>\n",
              "      <td>Anne Hathaway, Nicholas Galitzine, Ella Rubin,...</td>\n",
              "      <td>28,744</td>\n",
              "      <td>Solène, a 40-year-old single mom, begins an un...</td>\n",
              "      <td>166</td>\n",
              "      <td>Hypocrisy as an idea</td>\n",
              "      <td>This film, as well as the reaction to it, is a...</td>\n",
              "    </tr>\n",
              "    <tr>\n",
              "      <th>1</th>\n",
              "      <td>https://m.media-amazon.com/images/M/MV5BZGI4NT...</td>\n",
              "      <td>Kingdom of the Planet of the Apes</td>\n",
              "      <td>2023.0</td>\n",
              "      <td>PG-13</td>\n",
              "      <td>145.0</td>\n",
              "      <td>Action, Adventure, Sci-Fi</td>\n",
              "      <td>7.3</td>\n",
              "      <td>66.0</td>\n",
              "      <td>Wes Ball</td>\n",
              "      <td>Owen Teague, Freya Allan, Kevin Durand, Peter ...</td>\n",
              "      <td>22,248</td>\n",
              "      <td>Many years after the reign of Caesar, a young ...</td>\n",
              "      <td>183</td>\n",
              "      <td>A phenomenal start to another trilogy!</td>\n",
              "      <td>I'm a big fan of all the planet of the apes, a...</td>\n",
              "    </tr>\n",
              "    <tr>\n",
              "      <th>2</th>\n",
              "      <td>https://m.media-amazon.com/images/M/MV5BZjIyOT...</td>\n",
              "      <td>Unfrosted</td>\n",
              "      <td>2023.0</td>\n",
              "      <td>PG-13</td>\n",
              "      <td>97.0</td>\n",
              "      <td>Biography, Comedy, History</td>\n",
              "      <td>5.5</td>\n",
              "      <td>42.0</td>\n",
              "      <td>Jerry Seinfeld</td>\n",
              "      <td>Isaac Bae, Jerry Seinfeld, Chris Rickett, Rach...</td>\n",
              "      <td>18,401</td>\n",
              "      <td>In 1963 Michigan, business rivals Kellogg's an...</td>\n",
              "      <td>333</td>\n",
              "      <td>not funny</td>\n",
              "      <td>Pretty much the worst criticism you can lay on...</td>\n",
              "    </tr>\n",
              "  </tbody>\n",
              "</table>\n",
              "</div>"
            ],
            "text/plain": [
              "                                              Poster  \\\n",
              "0  https://m.media-amazon.com/images/M/MV5BYWRkZj...   \n",
              "1  https://m.media-amazon.com/images/M/MV5BZGI4NT...   \n",
              "2  https://m.media-amazon.com/images/M/MV5BZjIyOT...   \n",
              "\n",
              "                               Title    Year Certificate  Duration (min)  \\\n",
              "0                    The Idea of You  2023.0           R           115.0   \n",
              "1  Kingdom of the Planet of the Apes  2023.0       PG-13           145.0   \n",
              "2                          Unfrosted  2023.0       PG-13            97.0   \n",
              "\n",
              "                        Genre  Rating  Metascore           Director  \\\n",
              "0      Comedy, Drama, Romance     6.4       67.0  Michael Showalter   \n",
              "1   Action, Adventure, Sci-Fi     7.3       66.0           Wes Ball   \n",
              "2  Biography, Comedy, History     5.5       42.0     Jerry Seinfeld   \n",
              "\n",
              "                                                Cast   Votes  \\\n",
              "0  Anne Hathaway, Nicholas Galitzine, Ella Rubin,...  28,744   \n",
              "1  Owen Teague, Freya Allan, Kevin Durand, Peter ...  22,248   \n",
              "2  Isaac Bae, Jerry Seinfeld, Chris Rickett, Rach...  18,401   \n",
              "\n",
              "                                         Description Review Count  \\\n",
              "0  Solène, a 40-year-old single mom, begins an un...          166   \n",
              "1  Many years after the reign of Caesar, a young ...          183   \n",
              "2  In 1963 Michigan, business rivals Kellogg's an...          333   \n",
              "\n",
              "                             Review Title  \\\n",
              "0                    Hypocrisy as an idea   \n",
              "1  A phenomenal start to another trilogy!   \n",
              "2                               not funny   \n",
              "\n",
              "                                              Review  \n",
              "0  This film, as well as the reaction to it, is a...  \n",
              "1  I'm a big fan of all the planet of the apes, a...  \n",
              "2  Pretty much the worst criticism you can lay on...  "
            ]
          },
          "execution_count": 3,
          "metadata": {},
          "output_type": "execute_result"
        }
      ],
      "source": [
        "df.head(3)"
      ]
    },
    {
      "cell_type": "code",
      "execution_count": 4,
      "metadata": {
        "id": "pM0SGPWNNSop"
      },
      "outputs": [],
      "source": [
        "movies = df[['Poster','Title', 'Year', 'Genre', 'Rating', 'Director', 'Cast', 'Description', 'Review']]  # Selects specific columns for analysis"
      ]
    },
    {
      "cell_type": "code",
      "execution_count": 5,
      "metadata": {
        "colab": {
          "base_uri": "https://localhost:8080/",
          "height": 195
        },
        "id": "ir59uiYuTAzL",
        "outputId": "a0f17cdb-85f4-4d37-97ba-3ad7cd4f95ad"
      },
      "outputs": [
        {
          "data": {
            "text/html": [
              "<div>\n",
              "<style scoped>\n",
              "    .dataframe tbody tr th:only-of-type {\n",
              "        vertical-align: middle;\n",
              "    }\n",
              "\n",
              "    .dataframe tbody tr th {\n",
              "        vertical-align: top;\n",
              "    }\n",
              "\n",
              "    .dataframe thead th {\n",
              "        text-align: right;\n",
              "    }\n",
              "</style>\n",
              "<table border=\"1\" class=\"dataframe\">\n",
              "  <thead>\n",
              "    <tr style=\"text-align: right;\">\n",
              "      <th></th>\n",
              "      <th>Poster</th>\n",
              "      <th>Title</th>\n",
              "      <th>Year</th>\n",
              "      <th>Genre</th>\n",
              "      <th>Rating</th>\n",
              "      <th>Director</th>\n",
              "      <th>Cast</th>\n",
              "      <th>Description</th>\n",
              "      <th>Review</th>\n",
              "    </tr>\n",
              "  </thead>\n",
              "  <tbody>\n",
              "    <tr>\n",
              "      <th>0</th>\n",
              "      <td>https://m.media-amazon.com/images/M/MV5BYWRkZj...</td>\n",
              "      <td>The Idea of You</td>\n",
              "      <td>2023.0</td>\n",
              "      <td>Comedy, Drama, Romance</td>\n",
              "      <td>6.4</td>\n",
              "      <td>Michael Showalter</td>\n",
              "      <td>Anne Hathaway, Nicholas Galitzine, Ella Rubin,...</td>\n",
              "      <td>Solène, a 40-year-old single mom, begins an un...</td>\n",
              "      <td>This film, as well as the reaction to it, is a...</td>\n",
              "    </tr>\n",
              "    <tr>\n",
              "      <th>1</th>\n",
              "      <td>https://m.media-amazon.com/images/M/MV5BZGI4NT...</td>\n",
              "      <td>Kingdom of the Planet of the Apes</td>\n",
              "      <td>2023.0</td>\n",
              "      <td>Action, Adventure, Sci-Fi</td>\n",
              "      <td>7.3</td>\n",
              "      <td>Wes Ball</td>\n",
              "      <td>Owen Teague, Freya Allan, Kevin Durand, Peter ...</td>\n",
              "      <td>Many years after the reign of Caesar, a young ...</td>\n",
              "      <td>I'm a big fan of all the planet of the apes, a...</td>\n",
              "    </tr>\n",
              "    <tr>\n",
              "      <th>2</th>\n",
              "      <td>https://m.media-amazon.com/images/M/MV5BZjIyOT...</td>\n",
              "      <td>Unfrosted</td>\n",
              "      <td>2023.0</td>\n",
              "      <td>Biography, Comedy, History</td>\n",
              "      <td>5.5</td>\n",
              "      <td>Jerry Seinfeld</td>\n",
              "      <td>Isaac Bae, Jerry Seinfeld, Chris Rickett, Rach...</td>\n",
              "      <td>In 1963 Michigan, business rivals Kellogg's an...</td>\n",
              "      <td>Pretty much the worst criticism you can lay on...</td>\n",
              "    </tr>\n",
              "  </tbody>\n",
              "</table>\n",
              "</div>"
            ],
            "text/plain": [
              "                                              Poster  \\\n",
              "0  https://m.media-amazon.com/images/M/MV5BYWRkZj...   \n",
              "1  https://m.media-amazon.com/images/M/MV5BZGI4NT...   \n",
              "2  https://m.media-amazon.com/images/M/MV5BZjIyOT...   \n",
              "\n",
              "                               Title    Year                       Genre  \\\n",
              "0                    The Idea of You  2023.0      Comedy, Drama, Romance   \n",
              "1  Kingdom of the Planet of the Apes  2023.0   Action, Adventure, Sci-Fi   \n",
              "2                          Unfrosted  2023.0  Biography, Comedy, History   \n",
              "\n",
              "   Rating           Director  \\\n",
              "0     6.4  Michael Showalter   \n",
              "1     7.3           Wes Ball   \n",
              "2     5.5     Jerry Seinfeld   \n",
              "\n",
              "                                                Cast  \\\n",
              "0  Anne Hathaway, Nicholas Galitzine, Ella Rubin,...   \n",
              "1  Owen Teague, Freya Allan, Kevin Durand, Peter ...   \n",
              "2  Isaac Bae, Jerry Seinfeld, Chris Rickett, Rach...   \n",
              "\n",
              "                                         Description  \\\n",
              "0  Solène, a 40-year-old single mom, begins an un...   \n",
              "1  Many years after the reign of Caesar, a young ...   \n",
              "2  In 1963 Michigan, business rivals Kellogg's an...   \n",
              "\n",
              "                                              Review  \n",
              "0  This film, as well as the reaction to it, is a...  \n",
              "1  I'm a big fan of all the planet of the apes, a...  \n",
              "2  Pretty much the worst criticism you can lay on...  "
            ]
          },
          "execution_count": 5,
          "metadata": {},
          "output_type": "execute_result"
        }
      ],
      "source": [
        "movies.head(3)"
      ]
    },
    {
      "cell_type": "code",
      "execution_count": 6,
      "metadata": {
        "colab": {
          "base_uri": "https://localhost:8080/"
        },
        "id": "-pgr-wdnT8NN",
        "outputId": "61eb48fd-119a-4fef-88bb-a47dc9a0ac9b"
      },
      "outputs": [
        {
          "name": "stdout",
          "output_type": "stream",
          "text": [
            "<class 'pandas.core.frame.DataFrame'>\n",
            "RangeIndex: 10000 entries, 0 to 9999\n",
            "Data columns (total 9 columns):\n",
            " #   Column       Non-Null Count  Dtype  \n",
            "---  ------       --------------  -----  \n",
            " 0   Poster       10000 non-null  object \n",
            " 1   Title        10000 non-null  object \n",
            " 2   Year         9850 non-null   float64\n",
            " 3   Genre        9993 non-null   object \n",
            " 4   Rating       9596 non-null   float64\n",
            " 5   Director     9995 non-null   object \n",
            " 6   Cast         9961 non-null   object \n",
            " 7   Description  10000 non-null  object \n",
            " 8   Review       9484 non-null   object \n",
            "dtypes: float64(2), object(7)\n",
            "memory usage: 703.2+ KB\n"
          ]
        }
      ],
      "source": [
        "movies.info()  # Provides information about the DataFrame (data types, non-null values, etc.)\n"
      ]
    },
    {
      "cell_type": "code",
      "execution_count": 8,
      "metadata": {},
      "outputs": [
        {
          "name": "stdout",
          "output_type": "stream",
          "text": [
            "Defaulting to user installation because normal site-packages is not writeable\n",
            "Collecting wordcloud\n",
            "  Downloading wordcloud-1.9.4-cp312-cp312-win_amd64.whl.metadata (3.5 kB)\n",
            "Requirement already satisfied: numpy>=1.6.1 in c:\\users\\ammunandhu\\appdata\\local\\packages\\pythonsoftwarefoundation.python.3.12_qbz5n2kfra8p0\\localcache\\local-packages\\python312\\site-packages (from wordcloud) (1.26.4)\n",
            "Requirement already satisfied: pillow in c:\\users\\ammunandhu\\appdata\\local\\packages\\pythonsoftwarefoundation.python.3.12_qbz5n2kfra8p0\\localcache\\local-packages\\python312\\site-packages (from wordcloud) (11.0.0)\n",
            "Requirement already satisfied: matplotlib in c:\\users\\ammunandhu\\appdata\\local\\packages\\pythonsoftwarefoundation.python.3.12_qbz5n2kfra8p0\\localcache\\local-packages\\python312\\site-packages (from wordcloud) (3.7.5)\n",
            "Requirement already satisfied: contourpy>=1.0.1 in c:\\users\\ammunandhu\\appdata\\local\\packages\\pythonsoftwarefoundation.python.3.12_qbz5n2kfra8p0\\localcache\\local-packages\\python312\\site-packages (from matplotlib->wordcloud) (1.3.1)\n",
            "Requirement already satisfied: cycler>=0.10 in c:\\users\\ammunandhu\\appdata\\local\\packages\\pythonsoftwarefoundation.python.3.12_qbz5n2kfra8p0\\localcache\\local-packages\\python312\\site-packages (from matplotlib->wordcloud) (0.12.1)\n",
            "Requirement already satisfied: fonttools>=4.22.0 in c:\\users\\ammunandhu\\appdata\\local\\packages\\pythonsoftwarefoundation.python.3.12_qbz5n2kfra8p0\\localcache\\local-packages\\python312\\site-packages (from matplotlib->wordcloud) (4.55.3)\n",
            "Requirement already satisfied: kiwisolver>=1.0.1 in c:\\users\\ammunandhu\\appdata\\local\\packages\\pythonsoftwarefoundation.python.3.12_qbz5n2kfra8p0\\localcache\\local-packages\\python312\\site-packages (from matplotlib->wordcloud) (1.4.7)\n",
            "Requirement already satisfied: packaging>=20.0 in c:\\users\\ammunandhu\\appdata\\local\\packages\\pythonsoftwarefoundation.python.3.12_qbz5n2kfra8p0\\localcache\\local-packages\\python312\\site-packages (from matplotlib->wordcloud) (24.2)\n",
            "Requirement already satisfied: pyparsing>=2.3.1 in c:\\users\\ammunandhu\\appdata\\local\\packages\\pythonsoftwarefoundation.python.3.12_qbz5n2kfra8p0\\localcache\\local-packages\\python312\\site-packages (from matplotlib->wordcloud) (3.2.0)\n",
            "Requirement already satisfied: python-dateutil>=2.7 in c:\\users\\ammunandhu\\appdata\\local\\packages\\pythonsoftwarefoundation.python.3.12_qbz5n2kfra8p0\\localcache\\local-packages\\python312\\site-packages (from matplotlib->wordcloud) (2.9.0.post0)\n",
            "Requirement already satisfied: six>=1.5 in c:\\users\\ammunandhu\\appdata\\local\\packages\\pythonsoftwarefoundation.python.3.12_qbz5n2kfra8p0\\localcache\\local-packages\\python312\\site-packages (from python-dateutil>=2.7->matplotlib->wordcloud) (1.17.0)\n",
            "Downloading wordcloud-1.9.4-cp312-cp312-win_amd64.whl (301 kB)\n",
            "Installing collected packages: wordcloud\n",
            "Successfully installed wordcloud-1.9.4\n"
          ]
        },
        {
          "name": "stderr",
          "output_type": "stream",
          "text": [
            "  WARNING: The script wordcloud_cli.exe is installed in 'C:\\Users\\ammunandhu\\AppData\\Local\\Packages\\PythonSoftwareFoundation.Python.3.12_qbz5n2kfra8p0\\LocalCache\\local-packages\\Python312\\Scripts' which is not on PATH.\n",
            "  Consider adding this directory to PATH or, if you prefer to suppress this warning, use --no-warn-script-location.\n",
            "\n",
            "[notice] A new release of pip is available: 24.3.1 -> 25.0\n",
            "[notice] To update, run: C:\\Users\\ammunandhu\\AppData\\Local\\Microsoft\\WindowsApps\\PythonSoftwareFoundation.Python.3.12_qbz5n2kfra8p0\\python.exe -m pip install --upgrade pip\n"
          ]
        }
      ],
      "source": [
        "!pip install wordcloud\n",
        "from wordcloud import WordCloud, STOPWORDS\n",
        "import matplotlib.pyplot as plt\n"
      ]
    },
    {
      "cell_type": "code",
      "execution_count": 11,
      "metadata": {},
      "outputs": [
        {
          "data": {
            "image/png": "[encoded data removed]",
            "text/plain": [
              "<Figure size 800x550 with 1 Axes>"
            ]
          },
          "metadata": {},
          "output_type": "display_data"
        },
        {
          "ename": "",
          "evalue": "",
          "output_type": "error",
          "traceback": [
            "\u001b[1;31mThe Kernel crashed while executing code in the current cell or a previous cell. \n",
            "\u001b[1;31mPlease review the code in the cell(s) to identify a possible cause of the failure. \n",
            "\u001b[1;31mClick <a href='https://aka.ms/vscodeJupyterKernelCrash'>here</a> for more info. \n",
            "\u001b[1;31mView Jupyter <a href='command:jupyter.viewOutput'>log</a> for further details."
          ]
        }
      ],
      "source": [
        "# Combine all titles into a single string\n",
        "text = \" \".join(title for title in movies.Title)\n",
        "\n",
        "# Create and generate a word cloud image:\n",
        "wordcloud = WordCloud(max_words=200, background_color=\"white\").generate(text)\n",
        "\n",
        "# Display the generated image:\n",
        "plt.imshow(wordcloud, interpolation='bilinear')\n",
        "plt.axis(\"off\")\n",
        "plt.show()"
      ]
    },
    {
      "cell_type": "code",
      "execution_count": 7,
      "metadata": {
        "colab": {
          "base_uri": "https://localhost:8080/",
          "height": 300
        },
        "id": "8xGaNrehT-8N",
        "outputId": "85108036-d3e0-4e0c-c4c3-e3e2d674e29c"
      },
      "outputs": [
        {
          "data": {
            "text/html": [
              "<div>\n",
              "<style scoped>\n",
              "    .dataframe tbody tr th:only-of-type {\n",
              "        vertical-align: middle;\n",
              "    }\n",
              "\n",
              "    .dataframe tbody tr th {\n",
              "        vertical-align: top;\n",
              "    }\n",
              "\n",
              "    .dataframe thead th {\n",
              "        text-align: right;\n",
              "    }\n",
              "</style>\n",
              "<table border=\"1\" class=\"dataframe\">\n",
              "  <thead>\n",
              "    <tr style=\"text-align: right;\">\n",
              "      <th></th>\n",
              "      <th>Year</th>\n",
              "      <th>Rating</th>\n",
              "    </tr>\n",
              "  </thead>\n",
              "  <tbody>\n",
              "    <tr>\n",
              "      <th>count</th>\n",
              "      <td>9850.000000</td>\n",
              "      <td>9596.000000</td>\n",
              "    </tr>\n",
              "    <tr>\n",
              "      <th>mean</th>\n",
              "      <td>2005.761421</td>\n",
              "      <td>6.438610</td>\n",
              "    </tr>\n",
              "    <tr>\n",
              "      <th>std</th>\n",
              "      <td>18.958005</td>\n",
              "      <td>1.051412</td>\n",
              "    </tr>\n",
              "    <tr>\n",
              "      <th>min</th>\n",
              "      <td>1929.000000</td>\n",
              "      <td>1.300000</td>\n",
              "    </tr>\n",
              "    <tr>\n",
              "      <th>25%</th>\n",
              "      <td>1997.000000</td>\n",
              "      <td>5.800000</td>\n",
              "    </tr>\n",
              "    <tr>\n",
              "      <th>50%</th>\n",
              "      <td>2012.000000</td>\n",
              "      <td>6.500000</td>\n",
              "    </tr>\n",
              "    <tr>\n",
              "      <th>75%</th>\n",
              "      <td>2021.000000</td>\n",
              "      <td>7.200000</td>\n",
              "    </tr>\n",
              "    <tr>\n",
              "      <th>max</th>\n",
              "      <td>2025.000000</td>\n",
              "      <td>9.700000</td>\n",
              "    </tr>\n",
              "  </tbody>\n",
              "</table>\n",
              "</div>"
            ],
            "text/plain": [
              "              Year       Rating\n",
              "count  9850.000000  9596.000000\n",
              "mean   2005.761421     6.438610\n",
              "std      18.958005     1.051412\n",
              "min    1929.000000     1.300000\n",
              "25%    1997.000000     5.800000\n",
              "50%    2012.000000     6.500000\n",
              "75%    2021.000000     7.200000\n",
              "max    2025.000000     9.700000"
            ]
          },
          "execution_count": 7,
          "metadata": {},
          "output_type": "execute_result"
        }
      ],
      "source": [
        "movies.describe()  # Provides descriptive statistics of the DataFrame (mean, std, min, max, etc.)\n"
      ]
    },
    {
      "cell_type": "code",
      "execution_count": 8,
      "metadata": {
        "colab": {
          "base_uri": "https://localhost:8080/",
          "height": 335
        },
        "id": "r2auQmlKTGV-",
        "outputId": "216c482f-4a90-4476-c957-4129e3beaee5"
      },
      "outputs": [
        {
          "data": {
            "text/plain": [
              "Poster           0\n",
              "Title            0\n",
              "Year           150\n",
              "Genre            7\n",
              "Rating         404\n",
              "Director         5\n",
              "Cast            39\n",
              "Description      0\n",
              "Review         516\n",
              "dtype: int64"
            ]
          },
          "execution_count": 8,
          "metadata": {},
          "output_type": "execute_result"
        }
      ],
      "source": [
        "movies.isnull().sum()  # Checks for missing values in each column and displays the count\n"
      ]
    },
    {
      "cell_type": "code",
      "execution_count": 9,
      "metadata": {
        "colab": {
          "base_uri": "https://localhost:8080/"
        },
        "id": "bO32XDh2TQ1F",
        "outputId": "dda1953b-e759-4427-a6ee-9757f8a3f14f"
      },
      "outputs": [
        {
          "name": "stdout",
          "output_type": "stream",
          "text": [
            "Missing values after cleaning:\n",
            "Poster         0\n",
            "Title          0\n",
            "Year           0\n",
            "Genre          0\n",
            "Rating         0\n",
            "Director       0\n",
            "Cast           0\n",
            "Description    0\n",
            "Review         0\n",
            "dtype: int64\n"
          ]
        }
      ],
      "source": [
        "# Handle missing values\n",
        "# Fill 'Year' with the median value\n",
        "movies['Year'].fillna(movies['Year'].median(), inplace=True)\n",
        "# Fill 'Genre' with 'Unknown'\n",
        "movies['Genre'].fillna('Unknown', inplace=True)\n",
        "# Fill 'Rating' with the mean value\n",
        "movies['Rating'].fillna(movies['Rating'].mean(), inplace=True)\n",
        "# Fill 'Director' with 'Unknown Director'\n",
        "movies['Director'].fillna('Unknown', inplace=True)\n",
        "# Fill 'Cast' with an empty list and convert to a consistent format\n",
        "movies['Cast'].fillna('[]', inplace=True)\n",
        "# Fill 'Review' with 'No Review'\n",
        "movies['Review'].fillna('No Review', inplace=True)\n",
        "# Verify the dataset after handling missing values\n",
        "print(\"Missing values after cleaning:\")\n",
        "print(movies.isnull().sum())\n"
      ]
    },
    {
      "cell_type": "code",
      "execution_count": 10,
      "metadata": {
        "colab": {
          "base_uri": "https://localhost:8080/",
          "height": 36
        },
        "id": "95do66P1WnDn",
        "outputId": "e70983df-e4e8-4d73-9ec8-3ed4859a6d4f"
      },
      "outputs": [
        {
          "data": {
            "text/plain": [
              "'Biography, Comedy, History'"
            ]
          },
          "execution_count": 10,
          "metadata": {},
          "output_type": "execute_result"
        }
      ],
      "source": [
        "movies.iloc[2].Genre  # Accesses the 'Genre' value of the 3rd row\n"
      ]
    },
    {
      "cell_type": "code",
      "execution_count": 11,
      "metadata": {},
      "outputs": [
        {
          "data": {
            "text/plain": [
              "'https://m.media-amazon.com/images/M/MV5BZGI4NTEwNTAtZDcwMi00MDkxLTg1OGYtNTZmMzE3ZDljNzVlXkEyXkFqcGdeQXVyMTEyMjM2NDc2._V1_UY209_CR0,0,140,209_AL_.jpg'"
            ]
          },
          "execution_count": 11,
          "metadata": {},
          "output_type": "execute_result"
        }
      ],
      "source": [
        "df.iloc[1].Poster"
      ]
    },
    {
      "cell_type": "code",
      "execution_count": 12,
      "metadata": {
        "colab": {
          "base_uri": "https://localhost:8080/"
        },
        "id": "T1mrSdcdVofY",
        "outputId": "34327d43-ce92-473f-a5a7-55479dde29c9"
      },
      "outputs": [
        {
          "data": {
            "text/plain": [
              "array(['Comedy, Drama, Romance', 'Action, Adventure, Sci-Fi',\n",
              "       'Biography, Comedy, History', ..., 'Mystery, Drama',\n",
              "       'Biography, Crime, Drama', 'Drama, Romance'], dtype=object)"
            ]
          },
          "execution_count": 12,
          "metadata": {},
          "output_type": "execute_result"
        }
      ],
      "source": [
        "movies['Genre'].values"
      ]
    },
    {
      "cell_type": "code",
      "execution_count": 13,
      "metadata": {
        "colab": {
          "base_uri": "https://localhost:8080/",
          "height": 195
        },
        "id": "6lZchcsIXuvD",
        "outputId": "64938dc1-9ef9-4c3a-9675-c3fae3559f2c"
      },
      "outputs": [
        {
          "data": {
            "text/html": [
              "<div>\n",
              "<style scoped>\n",
              "    .dataframe tbody tr th:only-of-type {\n",
              "        vertical-align: middle;\n",
              "    }\n",
              "\n",
              "    .dataframe tbody tr th {\n",
              "        vertical-align: top;\n",
              "    }\n",
              "\n",
              "    .dataframe thead th {\n",
              "        text-align: right;\n",
              "    }\n",
              "</style>\n",
              "<table border=\"1\" class=\"dataframe\">\n",
              "  <thead>\n",
              "    <tr style=\"text-align: right;\">\n",
              "      <th></th>\n",
              "      <th>Poster</th>\n",
              "      <th>Title</th>\n",
              "      <th>Year</th>\n",
              "      <th>Genre</th>\n",
              "      <th>Rating</th>\n",
              "      <th>Director</th>\n",
              "      <th>Cast</th>\n",
              "      <th>Description</th>\n",
              "      <th>Review</th>\n",
              "    </tr>\n",
              "  </thead>\n",
              "  <tbody>\n",
              "    <tr>\n",
              "      <th>0</th>\n",
              "      <td>https://m.media-amazon.com/images/M/MV5BYWRkZj...</td>\n",
              "      <td>The Idea of You</td>\n",
              "      <td>2023.0</td>\n",
              "      <td>Comedy, Drama, Romance</td>\n",
              "      <td>6.4</td>\n",
              "      <td>Michael Showalter</td>\n",
              "      <td>Anne Hathaway, Nicholas Galitzine, Ella Rubin,...</td>\n",
              "      <td>Solène, a 40-year-old single mom, begins an un...</td>\n",
              "      <td>This film, as well as the reaction to it, is a...</td>\n",
              "    </tr>\n",
              "    <tr>\n",
              "      <th>1</th>\n",
              "      <td>https://m.media-amazon.com/images/M/MV5BZGI4NT...</td>\n",
              "      <td>Kingdom of the Planet of the Apes</td>\n",
              "      <td>2023.0</td>\n",
              "      <td>Action, Adventure, Sci-Fi</td>\n",
              "      <td>7.3</td>\n",
              "      <td>Wes Ball</td>\n",
              "      <td>Owen Teague, Freya Allan, Kevin Durand, Peter ...</td>\n",
              "      <td>Many years after the reign of Caesar, a young ...</td>\n",
              "      <td>I'm a big fan of all the planet of the apes, a...</td>\n",
              "    </tr>\n",
              "    <tr>\n",
              "      <th>2</th>\n",
              "      <td>https://m.media-amazon.com/images/M/MV5BZjIyOT...</td>\n",
              "      <td>Unfrosted</td>\n",
              "      <td>2023.0</td>\n",
              "      <td>Biography, Comedy, History</td>\n",
              "      <td>5.5</td>\n",
              "      <td>Jerry Seinfeld</td>\n",
              "      <td>Isaac Bae, Jerry Seinfeld, Chris Rickett, Rach...</td>\n",
              "      <td>In 1963 Michigan, business rivals Kellogg's an...</td>\n",
              "      <td>Pretty much the worst criticism you can lay on...</td>\n",
              "    </tr>\n",
              "  </tbody>\n",
              "</table>\n",
              "</div>"
            ],
            "text/plain": [
              "                                              Poster  \\\n",
              "0  https://m.media-amazon.com/images/M/MV5BYWRkZj...   \n",
              "1  https://m.media-amazon.com/images/M/MV5BZGI4NT...   \n",
              "2  https://m.media-amazon.com/images/M/MV5BZjIyOT...   \n",
              "\n",
              "                               Title    Year                       Genre  \\\n",
              "0                    The Idea of You  2023.0      Comedy, Drama, Romance   \n",
              "1  Kingdom of the Planet of the Apes  2023.0   Action, Adventure, Sci-Fi   \n",
              "2                          Unfrosted  2023.0  Biography, Comedy, History   \n",
              "\n",
              "   Rating           Director  \\\n",
              "0     6.4  Michael Showalter   \n",
              "1     7.3           Wes Ball   \n",
              "2     5.5     Jerry Seinfeld   \n",
              "\n",
              "                                                Cast  \\\n",
              "0  Anne Hathaway, Nicholas Galitzine, Ella Rubin,...   \n",
              "1  Owen Teague, Freya Allan, Kevin Durand, Peter ...   \n",
              "2  Isaac Bae, Jerry Seinfeld, Chris Rickett, Rach...   \n",
              "\n",
              "                                         Description  \\\n",
              "0  Solène, a 40-year-old single mom, begins an un...   \n",
              "1  Many years after the reign of Caesar, a young ...   \n",
              "2  In 1963 Michigan, business rivals Kellogg's an...   \n",
              "\n",
              "                                              Review  \n",
              "0  This film, as well as the reaction to it, is a...  \n",
              "1  I'm a big fan of all the planet of the apes, a...  \n",
              "2  Pretty much the worst criticism you can lay on...  "
            ]
          },
          "execution_count": 13,
          "metadata": {},
          "output_type": "execute_result"
        }
      ],
      "source": [
        "movies.head(3)"
      ]
    },
    {
      "cell_type": "code",
      "execution_count": 14,
      "metadata": {
        "colab": {
          "base_uri": "https://localhost:8080/"
        },
        "id": "r8iXgPRaYmCf",
        "outputId": "516fb2ca-953c-4927-ed01-e4234549720b"
      },
      "outputs": [
        {
          "name": "stdout",
          "output_type": "stream",
          "text": [
            "0    Anne Hathaway, Nicholas Galitzine, Ella Rubin,...\n",
            "1    Owen Teague, Freya Allan, Kevin Durand, Peter ...\n",
            "2    Isaac Bae, Jerry Seinfeld, Chris Rickett, Rach...\n",
            "3    Ryan Gosling, Emily Blunt, Aaron Taylor-Johnso...\n",
            "4    Zendaya, Mike Faist, Josh O'Connor, Darnell Ap...\n",
            "5    Tyler Gillett, Melissa Barrera, Dan Stevens, A...\n",
            "6    Kirsten Dunst, Wagner Moura, Cailee Spaeny, Ni...\n",
            "7    Daisy Edgar-Jones, Glen Powell, David Corenswe...\n",
            "8    Sydney Sweeney, Glen Powell, Alexandra Shipp, ...\n",
            "9    Henry Cavill, Alan Ritchson, Alex Pettyfer, Ei...\n",
            "Name: Cast, dtype: object\n"
          ]
        }
      ],
      "source": [
        "print(movies['Cast'].head(10))  # Check the first few rows of the 'Cast' column\n"
      ]
    },
    {
      "cell_type": "code",
      "execution_count": 15,
      "metadata": {
        "id": "qi5bRTdfY5El"
      },
      "outputs": [],
      "source": [
        "# Extract and keep only the first 3 cast members\n",
        "movies['Cast'] = movies['Cast'].apply(lambda x: x.split(', ')[:3] if isinstance(x, str) else [])\n"
      ]
    },
    {
      "cell_type": "code",
      "execution_count": 16,
      "metadata": {},
      "outputs": [],
      "source": [
        "movies['Genre'] = movies['Genre'].apply(lambda x: ', '.join(x) if isinstance(x, list) else str(x))\n",
        "movies['Cast'] = movies['Cast'].apply(lambda x: ', '.join(x) if isinstance(x, list) else str(x))\n"
      ]
    },
    {
      "cell_type": "code",
      "execution_count": 17,
      "metadata": {
        "colab": {
          "base_uri": "https://localhost:8080/",
          "height": 195
        },
        "id": "QB2bbf86YI35",
        "outputId": "db2654f4-9aa6-4860-f096-8e50f466ab92"
      },
      "outputs": [
        {
          "data": {
            "text/html": [
              "<div>\n",
              "<style scoped>\n",
              "    .dataframe tbody tr th:only-of-type {\n",
              "        vertical-align: middle;\n",
              "    }\n",
              "\n",
              "    .dataframe tbody tr th {\n",
              "        vertical-align: top;\n",
              "    }\n",
              "\n",
              "    .dataframe thead th {\n",
              "        text-align: right;\n",
              "    }\n",
              "</style>\n",
              "<table border=\"1\" class=\"dataframe\">\n",
              "  <thead>\n",
              "    <tr style=\"text-align: right;\">\n",
              "      <th></th>\n",
              "      <th>Poster</th>\n",
              "      <th>Title</th>\n",
              "      <th>Year</th>\n",
              "      <th>Genre</th>\n",
              "      <th>Rating</th>\n",
              "      <th>Director</th>\n",
              "      <th>Cast</th>\n",
              "      <th>Description</th>\n",
              "      <th>Review</th>\n",
              "    </tr>\n",
              "  </thead>\n",
              "  <tbody>\n",
              "    <tr>\n",
              "      <th>0</th>\n",
              "      <td>https://m.media-amazon.com/images/M/MV5BYWRkZj...</td>\n",
              "      <td>The Idea of You</td>\n",
              "      <td>2023.0</td>\n",
              "      <td>Comedy, Drama, Romance</td>\n",
              "      <td>6.4</td>\n",
              "      <td>Michael Showalter</td>\n",
              "      <td>Anne Hathaway, Nicholas Galitzine, Ella Rubin</td>\n",
              "      <td>Solène, a 40-year-old single mom, begins an un...</td>\n",
              "      <td>This film, as well as the reaction to it, is a...</td>\n",
              "    </tr>\n",
              "    <tr>\n",
              "      <th>1</th>\n",
              "      <td>https://m.media-amazon.com/images/M/MV5BZGI4NT...</td>\n",
              "      <td>Kingdom of the Planet of the Apes</td>\n",
              "      <td>2023.0</td>\n",
              "      <td>Action, Adventure, Sci-Fi</td>\n",
              "      <td>7.3</td>\n",
              "      <td>Wes Ball</td>\n",
              "      <td>Owen Teague, Freya Allan, Kevin Durand</td>\n",
              "      <td>Many years after the reign of Caesar, a young ...</td>\n",
              "      <td>I'm a big fan of all the planet of the apes, a...</td>\n",
              "    </tr>\n",
              "    <tr>\n",
              "      <th>2</th>\n",
              "      <td>https://m.media-amazon.com/images/M/MV5BZjIyOT...</td>\n",
              "      <td>Unfrosted</td>\n",
              "      <td>2023.0</td>\n",
              "      <td>Biography, Comedy, History</td>\n",
              "      <td>5.5</td>\n",
              "      <td>Jerry Seinfeld</td>\n",
              "      <td>Isaac Bae, Jerry Seinfeld, Chris Rickett</td>\n",
              "      <td>In 1963 Michigan, business rivals Kellogg's an...</td>\n",
              "      <td>Pretty much the worst criticism you can lay on...</td>\n",
              "    </tr>\n",
              "  </tbody>\n",
              "</table>\n",
              "</div>"
            ],
            "text/plain": [
              "                                              Poster  \\\n",
              "0  https://m.media-amazon.com/images/M/MV5BYWRkZj...   \n",
              "1  https://m.media-amazon.com/images/M/MV5BZGI4NT...   \n",
              "2  https://m.media-amazon.com/images/M/MV5BZjIyOT...   \n",
              "\n",
              "                               Title    Year                       Genre  \\\n",
              "0                    The Idea of You  2023.0      Comedy, Drama, Romance   \n",
              "1  Kingdom of the Planet of the Apes  2023.0   Action, Adventure, Sci-Fi   \n",
              "2                          Unfrosted  2023.0  Biography, Comedy, History   \n",
              "\n",
              "   Rating           Director                                           Cast  \\\n",
              "0     6.4  Michael Showalter  Anne Hathaway, Nicholas Galitzine, Ella Rubin   \n",
              "1     7.3           Wes Ball         Owen Teague, Freya Allan, Kevin Durand   \n",
              "2     5.5     Jerry Seinfeld       Isaac Bae, Jerry Seinfeld, Chris Rickett   \n",
              "\n",
              "                                         Description  \\\n",
              "0  Solène, a 40-year-old single mom, begins an un...   \n",
              "1  Many years after the reign of Caesar, a young ...   \n",
              "2  In 1963 Michigan, business rivals Kellogg's an...   \n",
              "\n",
              "                                              Review  \n",
              "0  This film, as well as the reaction to it, is a...  \n",
              "1  I'm a big fan of all the planet of the apes, a...  \n",
              "2  Pretty much the worst criticism you can lay on...  "
            ]
          },
          "execution_count": 17,
          "metadata": {},
          "output_type": "execute_result"
        }
      ],
      "source": [
        "movies.head(3)"
      ]
    },
    {
      "cell_type": "code",
      "execution_count": 18,
      "metadata": {
        "colab": {
          "base_uri": "https://localhost:8080/",
          "height": 36
        },
        "id": "P9kCKc6yZb-r",
        "outputId": "67ee4b27-f9a8-48d3-96e9-9315ccf17ccf"
      },
      "outputs": [
        {
          "data": {
            "text/plain": [
              "'Solène, a 40-year-old single mom, begins an unexpected romance with 24-year-old Hayes Campbell, the lead singer of August Moon, the hottest boy band on the planet.'"
            ]
          },
          "execution_count": 18,
          "metadata": {},
          "output_type": "execute_result"
        }
      ],
      "source": [
        "movies['Description'][0]"
      ]
    },
    {
      "cell_type": "code",
      "execution_count": 19,
      "metadata": {
        "id": "g9g1sf3sZrqK"
      },
      "outputs": [],
      "source": [
        "# Apply split only if the value is a string\n",
        "movies['Description'] = movies['Description'].apply(lambda x: x.split() if isinstance(x, str) else x)"
      ]
    },
    {
      "cell_type": "code",
      "execution_count": 20,
      "metadata": {
        "id": "Ef4DFK92caWd"
      },
      "outputs": [],
      "source": [
        "import pandas as pd\n",
        "import re\n",
        "import nltk\n",
        "from nltk.corpus import stopwords\n",
        "from nltk.stem import WordNetLemmatizer\n",
        "from nltk.tokenize import word_tokenize\n",
        "from nltk.tokenize.treebank import TreebankWordDetokenizer\n",
        "from sklearn.feature_extraction.text import TfidfVectorizer # This import should now work correctly"
      ]
    },
    {
      "cell_type": "code",
      "execution_count": 21,
      "metadata": {
        "id": "1CZIM1jBdcaS"
      },
      "outputs": [],
      "source": [
        "# Initialize lemmatizer and stopwords list\n",
        "lemmatizer = WordNetLemmatizer()  # Initializes the lemmatizer\n",
        "stop_words = set(stopwords.words('english'))  # Creates a set of English stop words\n"
      ]
    },
    {
      "cell_type": "code",
      "execution_count": 22,
      "metadata": {
        "id": "jzhRNn1Xdfcq"
      },
      "outputs": [],
      "source": [
        "# Function for deep cleaning\n",
        "def deep_clean_text(text):\n",
        "    # Convert text to lowercase\n",
        "    text = text.lower()\n",
        "    # Remove URLs\n",
        "    text = re.sub(r'http\\S+|www\\S+|https\\S+', '', text)\n",
        "    # Remove mentions (@user) and hashtags\n",
        "    text = re.sub(r'@\\w+|#\\w+', '', text)\n",
        "    # Remove special characters, digits, and punctuation (keeping only alphabetic characters and spaces\n",
        "    text = re.sub(r'[^a-z\\s]', '', text)\n",
        "    # Tokenization: split the text into words\n",
        "    words = word_tokenize(text)\n",
        "    # Remove stopwords\n",
        "    words = [word for word in words if word not in stop_words]\n",
        "    # Lemmatization: reduce words to their base form\n",
        "    words = [lemmatizer.lemmatize(word) for word in words]\n",
        "    # Rejoin words into a single string\n",
        "    text = TreebankWordDetokenizer().detokenize(words)\n",
        "    return text"
      ]
    },
    {
      "cell_type": "code",
      "execution_count": 23,
      "metadata": {
        "id": "QU-3WWO2dvQY"
      },
      "outputs": [],
      "source": [
        "# Deep clean the 'Review' column in the dataset\n",
        "movies['Review'] = movies['Review'].apply(deep_clean_text)"
      ]
    },
    {
      "cell_type": "code",
      "execution_count": 24,
      "metadata": {
        "colab": {
          "base_uri": "https://localhost:8080/"
        },
        "id": "3ami9fJNeTuQ",
        "outputId": "4244fac2-96c1-4705-9790-f5e628892665"
      },
      "outputs": [
        {
          "name": "stdout",
          "output_type": "stream",
          "text": [
            "0    film well reaction wonderful example modern hy...\n",
            "1    im big fan planet ape nailed one usually start...\n",
            "2    pretty much worst criticism lay comedian true ...\n",
            "3    got austin premier sxsw whole theatre went nut...\n",
            "4    tough one liked concept overall story however ...\n",
            "Name: Review, dtype: object\n"
          ]
        }
      ],
      "source": [
        "# View a preview of cleaned reviews\n",
        "print(movies['Review'].head())\n"
      ]
    },
    {
      "cell_type": "code",
      "execution_count": 25,
      "metadata": {
        "id": "SNnyjhJ9aN1A"
      },
      "outputs": [],
      "source": [
        "movies['Review'] = movies['Review'].apply(lambda x: x.split())  # Splits the 'Review' column into words\n"
      ]
    },
    {
      "cell_type": "code",
      "execution_count": 26,
      "metadata": {
        "colab": {
          "base_uri": "https://localhost:8080/",
          "height": 143
        },
        "id": "FfZseMtZadcX",
        "outputId": "dde0669d-7751-433d-fe72-d13649d8b108"
      },
      "outputs": [
        {
          "data": {
            "text/html": [
              "<div>\n",
              "<style scoped>\n",
              "    .dataframe tbody tr th:only-of-type {\n",
              "        vertical-align: middle;\n",
              "    }\n",
              "\n",
              "    .dataframe tbody tr th {\n",
              "        vertical-align: top;\n",
              "    }\n",
              "\n",
              "    .dataframe thead th {\n",
              "        text-align: right;\n",
              "    }\n",
              "</style>\n",
              "<table border=\"1\" class=\"dataframe\">\n",
              "  <thead>\n",
              "    <tr style=\"text-align: right;\">\n",
              "      <th></th>\n",
              "      <th>Poster</th>\n",
              "      <th>Title</th>\n",
              "      <th>Year</th>\n",
              "      <th>Genre</th>\n",
              "      <th>Rating</th>\n",
              "      <th>Director</th>\n",
              "      <th>Cast</th>\n",
              "      <th>Description</th>\n",
              "      <th>Review</th>\n",
              "    </tr>\n",
              "  </thead>\n",
              "  <tbody>\n",
              "    <tr>\n",
              "      <th>0</th>\n",
              "      <td>https://m.media-amazon.com/images/M/MV5BYWRkZj...</td>\n",
              "      <td>The Idea of You</td>\n",
              "      <td>2023.0</td>\n",
              "      <td>Comedy, Drama, Romance</td>\n",
              "      <td>6.4</td>\n",
              "      <td>Michael Showalter</td>\n",
              "      <td>Anne Hathaway, Nicholas Galitzine, Ella Rubin</td>\n",
              "      <td>[Solène,, a, 40-year-old, single, mom,, begins...</td>\n",
              "      <td>[film, well, reaction, wonderful, example, mod...</td>\n",
              "    </tr>\n",
              "    <tr>\n",
              "      <th>1</th>\n",
              "      <td>https://m.media-amazon.com/images/M/MV5BZGI4NT...</td>\n",
              "      <td>Kingdom of the Planet of the Apes</td>\n",
              "      <td>2023.0</td>\n",
              "      <td>Action, Adventure, Sci-Fi</td>\n",
              "      <td>7.3</td>\n",
              "      <td>Wes Ball</td>\n",
              "      <td>Owen Teague, Freya Allan, Kevin Durand</td>\n",
              "      <td>[Many, years, after, the, reign, of, Caesar,, ...</td>\n",
              "      <td>[im, big, fan, planet, ape, nailed, one, usual...</td>\n",
              "    </tr>\n",
              "    <tr>\n",
              "      <th>2</th>\n",
              "      <td>https://m.media-amazon.com/images/M/MV5BZjIyOT...</td>\n",
              "      <td>Unfrosted</td>\n",
              "      <td>2023.0</td>\n",
              "      <td>Biography, Comedy, History</td>\n",
              "      <td>5.5</td>\n",
              "      <td>Jerry Seinfeld</td>\n",
              "      <td>Isaac Bae, Jerry Seinfeld, Chris Rickett</td>\n",
              "      <td>[In, 1963, Michigan,, business, rivals, Kellog...</td>\n",
              "      <td>[pretty, much, worst, criticism, lay, comedian...</td>\n",
              "    </tr>\n",
              "  </tbody>\n",
              "</table>\n",
              "</div>"
            ],
            "text/plain": [
              "                                              Poster  \\\n",
              "0  https://m.media-amazon.com/images/M/MV5BYWRkZj...   \n",
              "1  https://m.media-amazon.com/images/M/MV5BZGI4NT...   \n",
              "2  https://m.media-amazon.com/images/M/MV5BZjIyOT...   \n",
              "\n",
              "                               Title    Year                       Genre  \\\n",
              "0                    The Idea of You  2023.0      Comedy, Drama, Romance   \n",
              "1  Kingdom of the Planet of the Apes  2023.0   Action, Adventure, Sci-Fi   \n",
              "2                          Unfrosted  2023.0  Biography, Comedy, History   \n",
              "\n",
              "   Rating           Director                                           Cast  \\\n",
              "0     6.4  Michael Showalter  Anne Hathaway, Nicholas Galitzine, Ella Rubin   \n",
              "1     7.3           Wes Ball         Owen Teague, Freya Allan, Kevin Durand   \n",
              "2     5.5     Jerry Seinfeld       Isaac Bae, Jerry Seinfeld, Chris Rickett   \n",
              "\n",
              "                                         Description  \\\n",
              "0  [Solène,, a, 40-year-old, single, mom,, begins...   \n",
              "1  [Many, years, after, the, reign, of, Caesar,, ...   \n",
              "2  [In, 1963, Michigan,, business, rivals, Kellog...   \n",
              "\n",
              "                                              Review  \n",
              "0  [film, well, reaction, wonderful, example, mod...  \n",
              "1  [im, big, fan, planet, ape, nailed, one, usual...  \n",
              "2  [pretty, much, worst, criticism, lay, comedian...  "
            ]
          },
          "execution_count": 26,
          "metadata": {},
          "output_type": "execute_result"
        }
      ],
      "source": [
        "movies.head(3)"
      ]
    },
    {
      "cell_type": "code",
      "execution_count": 27,
      "metadata": {
        "id": "oyPOxxvg0Zvj"
      },
      "outputs": [],
      "source": [
        "# Extract Sentiment from Reviews\n",
        "def extract_sentiment(text):\n",
        "    if not text:  # Checks if the text is empty\n",
        "        return \"neutral\"  # Returns 'neutral' if the text is empty\n",
        "    sentiment_polarity = TextBlob(text).sentiment.polarity  # Calculates sentiment polarity\n",
        "    if sentiment_polarity > 0.17:  # Checks if polarity is positive\n",
        "        return \"positive\"  # Returns 'positive' if polarity is positive\n",
        "    elif sentiment_polarity < -0.17:  # Checks if polarity is negative\n",
        "        return \"negative\"  # Returns 'negative' if polarity is negative\n",
        "    else:  # If polarity is neither positive nor negative\n",
        "        return \"neutral\"  # Returns 'neutral'\n"
      ]
    },
    {
      "cell_type": "code",
      "execution_count": 28,
      "metadata": {
        "id": "lMclA0OC04nA"
      },
      "outputs": [],
      "source": [
        "# Ensure 'Review' column is of type string for text processing\n",
        "movies['Review'] = movies['Review'].apply(lambda x: ' '.join(x) if isinstance(x, list) else x)  # Converts 'Review' to string\n"
      ]
    },
    {
      "cell_type": "code",
      "execution_count": 29,
      "metadata": {
        "id": "lxmHOfSHJl4E"
      },
      "outputs": [],
      "source": [
        "movies['Sentiment'] = movies['Review'].apply(extract_sentiment)"
      ]
    },
    {
      "cell_type": "code",
      "execution_count": 30,
      "metadata": {
        "colab": {
          "base_uri": "https://localhost:8080/"
        },
        "id": "NRy3B9nq6VRA",
        "outputId": "1d4e0845-7411-438e-88b0-ad80c9f3513f"
      },
      "outputs": [
        {
          "name": "stdout",
          "output_type": "stream",
          "text": [
            "Sentiment Distribution:\n",
            " Sentiment\n",
            "neutral     5807\n",
            "positive    3847\n",
            "negative     346\n",
            "Name: count, dtype: int64\n"
          ]
        }
      ],
      "source": [
        "# Analyze class distribution\n",
        "sentiment_counts = movies['Sentiment'].value_counts()\n",
        "print(\"Sentiment Distribution:\\n\", sentiment_counts)\n",
        "\n"
      ]
    },
    {
      "cell_type": "code",
      "execution_count": 31,
      "metadata": {},
      "outputs": [
        {
          "data": {
            "image/png": "[encoded data removed]",
            "text/plain": [
              "<Figure size 600x600 with 1 Axes>"
            ]
          },
          "metadata": {},
          "output_type": "display_data"
        }
      ],
      "source": [
        "import matplotlib.pyplot as plt\n",
        "import pandas as pd\n",
        "\n",
        "# Assuming 'movies' is your DataFrame with a 'Sentiment' column\n",
        "sentiment_counts = movies['Sentiment'].value_counts()\n",
        "\n",
        "# Create the pie chart\n",
        "plt.figure(figsize=(6, 6))\n",
        "plt.pie(sentiment_counts, labels=sentiment_counts.index, autopct='%1.1f%%', startangle=90)\n",
        "plt.title('Sentiment Distribution Before SMOTE')\n",
        "plt.show()"
      ]
    },
    {
      "cell_type": "code",
      "execution_count": 32,
      "metadata": {
        "colab": {
          "base_uri": "https://localhost:8080/",
          "height": 72
        },
        "id": "UN_-JcsB6_ZV",
        "outputId": "f9521948-af8f-4805-f49b-a2af0cfb67c2"
      },
      "outputs": [
        {
          "data": {
            "text/plain": [
              "'film well reaction wonderful example modern hypocrisythe story adult woman attracted young guy year younger young enough son see boy band concert people reaction start movie trailer beyond get praise story destruction stigma happiness woman remain attractive age man happiness available anyone u judge someone elses lovebut story man age attracted girl girl band girl year younger would get story disgusting creep find way overcome midlife crisis preadatory pursue girl young enough daughter'"
            ]
          },
          "execution_count": 32,
          "metadata": {},
          "output_type": "execute_result"
        }
      ],
      "source": [
        "movies['Review'][0]"
      ]
    },
    {
      "cell_type": "code",
      "execution_count": 33,
      "metadata": {
        "colab": {
          "base_uri": "https://localhost:8080/",
          "height": 36
        },
        "id": "6c8ILsHrfhAu",
        "outputId": "05a6b2ed-8140-4e88-a247-fdf280648e73"
      },
      "outputs": [
        {
          "data": {
            "text/plain": [
              "'positive'"
            ]
          },
          "execution_count": 33,
          "metadata": {},
          "output_type": "execute_result"
        }
      ],
      "source": [
        "movies['Sentiment'][0]"
      ]
    },
    {
      "cell_type": "code",
      "execution_count": 34,
      "metadata": {
        "colab": {
          "base_uri": "https://localhost:8080/"
        },
        "id": "7ZxGsjgl8MW5",
        "outputId": "c01cfdda-95df-4efc-b645-4b183e84af4d"
      },
      "outputs": [
        {
          "name": "stdout",
          "output_type": "stream",
          "text": [
            "Sentiment Distribution:\n",
            " Sentiment\n",
            "neutral     5807\n",
            "positive    3847\n",
            "negative     346\n",
            "Name: count, dtype: int64\n"
          ]
        }
      ],
      "source": [
        "# Verify class balance\n",
        "sentiment_counts = movies['Sentiment'].value_counts()\n",
        "print(\"Sentiment Distribution:\\n\", sentiment_counts)"
      ]
    },
    {
      "cell_type": "code",
      "execution_count": 35,
      "metadata": {
        "collapsed": true,
        "id": "aEzCCTP22XTB"
      },
      "outputs": [],
      "source": [
        "tfidf_vectorizer = TfidfVectorizer(max_features=1000)  # Initializes the TF-IDF vectorizer\n",
        "tfidf_matrix = tfidf_vectorizer.fit_transform(movies['Review']).toarray()  # Creates the TF-IDF matrix\n",
        "tfidf_df = pd.DataFrame(tfidf_matrix, columns=tfidf_vectorizer.get_feature_names_out())  # Creates a DataFrame from the TF-IDF matrix\n",
        "tfidf_df['Sentiment'] = movies['Sentiment']  # Adds the 'Sentiment' column to the DataFrame\n"
      ]
    },
    {
      "cell_type": "code",
      "execution_count": 36,
      "metadata": {
        "colab": {
          "base_uri": "https://localhost:8080/"
        },
        "id": "Ni-LMyQX-Xjl",
        "outputId": "cbf95e42-c260-4059-8c29-21986c37fb28"
      },
      "outputs": [
        {
          "name": "stdout",
          "output_type": "stream",
          "text": [
            "Shape before SMOTE: (10000, 1001)\n"
          ]
        }
      ],
      "source": [
        "# Show shape before SMOTE\n",
        "print(\"Shape before SMOTE:\", tfidf_df.shape)\n"
      ]
    },
    {
      "cell_type": "code",
      "execution_count": 37,
      "metadata": {
        "id": "_eI_lX9y_5hI"
      },
      "outputs": [],
      "source": [
        "# Apply SMOTE to balance the classes\n",
        "X = tfidf_df.drop('Sentiment', axis=1)  # Separates features (X) from target (y)\n",
        "y = tfidf_df['Sentiment']  # Assigns target variable\n",
        "smote = SMOTE(sampling_strategy='auto', random_state=42)  # Initializes SMOTE\n",
        "X_resampled, y_resampled = smote.fit_resample(X, y)  # Applies SMOTE to balance classes\n"
      ]
    },
    {
      "cell_type": "code",
      "execution_count": 38,
      "metadata": {},
      "outputs": [
        {
          "data": {
            "image/png": "[encoded data removed]",
            "text/plain": [
              "<Figure size 600x600 with 1 Axes>"
            ]
          },
          "metadata": {},
          "output_type": "display_data"
        }
      ],
      "source": [
        "import matplotlib.pyplot as plt\n",
        "import pandas as pd\n",
        "\n",
        "# Assuming 'y_resampled' is the resampled target variable after SMOTE\n",
        "resampled_sentiment_counts = pd.Series(y_resampled).value_counts()\n",
        "\n",
        "# Create the pie chart\n",
        "plt.figure(figsize=(6, 6))\n",
        "plt.pie(resampled_sentiment_counts, labels=resampled_sentiment_counts.index, autopct='%1.1f%%', startangle=90)\n",
        "plt.title('Sentiment Distribution After SMOTE')\n",
        "plt.show()"
      ]
    },
    {
      "cell_type": "code",
      "execution_count": 40,
      "metadata": {},
      "outputs": [
        {
          "data": {
            "image/png": "[encoded data removed]",
            "text/plain": [
              "<Figure size 1000x600 with 1 Axes>"
            ]
          },
          "metadata": {},
          "output_type": "display_data"
        }
      ],
      "source": [
        "import pandas as pd\n",
        "import seaborn as sns\n",
        "import matplotlib.pyplot as plt\n",
        "from sklearn.preprocessing import LabelEncoder\n",
        "\n",
        "# Assuming 'movies' is your DataFrame and 'Sentiment' is the target variable\n",
        "\n",
        "# Create a LabelEncoder object\n",
        "label_encoder = LabelEncoder()\n",
        "\n",
        "# Fit the encoder to your 'Sentiment' column and transform it\n",
        "movies['Sentiment_Encoded'] = label_encoder.fit_transform(movies['Sentiment'])\n",
        "\n",
        "# Select numerical features for correlation analysis (including 'Sentiment_Encoded')\n",
        "numerical_features = movies.select_dtypes(include=['number'])  \n",
        "\n",
        "# Calculate correlations between numerical features and 'Sentiment_Encoded'\n",
        "correlations = numerical_features.corrwith(movies['Sentiment_Encoded'])\n",
        "\n",
        "# Create a bar plot to visualize correlations\n",
        "plt.figure(figsize=(10, 6))\n",
        "sns.barplot(x=correlations.index, y=correlations.values)\n",
        "plt.title('Correlation between Sentiment and Numerical Features')\n",
        "plt.xticks(rotation=45, ha='right')\n",
        "plt.ylabel('Correlation Coefficient')\n",
        "plt.show()"
      ]
    },
    {
      "cell_type": "code",
      "execution_count": 44,
      "metadata": {},
      "outputs": [
        {
          "data": {
            "image/png": "[encoded data removed]",
            "text/plain": [
              "<Figure size 1000x800 with 2 Axes>"
            ]
          },
          "metadata": {},
          "output_type": "display_data"
        }
      ],
      "source": [
        "# prompt: give code for correlation heat map of numerical features from df\n",
        "\n",
        "import seaborn as sns\n",
        "import matplotlib.pyplot as plt\n",
        "\n",
        "# Assuming 'movies' DataFrame is already loaded and preprocessed\n",
        "\n",
        "# Select numerical features for correlation analysis\n",
        "numerical_features = df.select_dtypes(include=np.number)\n",
        "\n",
        "# Calculate the correlation matrix\n",
        "correlation_matrix = numerical_features.corr()\n",
        "\n",
        "# Create the heatmap\n",
        "plt.figure(figsize=(10, 8))\n",
        "sns.heatmap(correlation_matrix, annot=True, cmap='coolwarm', fmt=\".2f\")\n",
        "plt.title('Correlation Heatmap of Numerical Features')\n",
        "plt.show()"
      ]
    },
    {
      "cell_type": "code",
      "execution_count": 70,
      "metadata": {},
      "outputs": [],
      "source": [
        "import pickle\n",
        "# Save the vectorizer after SMOTE (it remains the same)\n",
        "with open('tfidf_vectorizer_sentiment.pkl', 'wb') as f:\n",
        "    pickle.dump(tfidf_vectorizer, f)\n",
        "\n",
        "# Create a new DataFrame with the resampled data\n",
        "tfidf_df_resampled = pd.DataFrame(X_resampled, columns=tfidf_vectorizer.get_feature_names_out())\n",
        "tfidf_df_resampled['Sentiment'] = y_resampled\n",
        "\n",
        "# Save the resampled TF-IDF DataFrame\n",
        "with open('tfidf_matrix_sentiment.pkl', 'wb') as f:\n",
        "    pickle.dump(tfidf_df_resampled, f)"
      ]
    },
    {
      "cell_type": "code",
      "execution_count": 38,
      "metadata": {
        "colab": {
          "base_uri": "https://localhost:8080/"
        },
        "id": "JaZLTzB0_6VY",
        "outputId": "6e150409-c962-4da6-f4f0-204db7845d4e"
      },
      "outputs": [
        {
          "name": "stdout",
          "output_type": "stream",
          "text": [
            "Shape after SMOTE: (17421, 1000)\n"
          ]
        }
      ],
      "source": [
        "# Show shape after SMOTE\n",
        "print(\"Shape after SMOTE:\", X_resampled.shape)\n"
      ]
    },
    {
      "cell_type": "code",
      "execution_count": 39,
      "metadata": {
        "colab": {
          "base_uri": "https://localhost:8080/"
        },
        "id": "OiRrEq0WAPFg",
        "outputId": "15e28b72-ed6e-4018-ec07-dbc97483f16b"
      },
      "outputs": [
        {
          "name": "stdout",
          "output_type": "stream",
          "text": [
            "Sentiment Distribution After SMOTE:\n",
            " Sentiment\n",
            "positive    5807\n",
            "neutral     5807\n",
            "negative    5807\n",
            "Name: count, dtype: int64\n"
          ]
        }
      ],
      "source": [
        "# After SMOTE: Analyze sentiment distribution in resampled data\n",
        "resampled_sentiment_counts = pd.Series(y_resampled).value_counts()\n",
        "print(\"Sentiment Distribution After SMOTE:\\n\", resampled_sentiment_counts)\n"
      ]
    },
    {
      "cell_type": "code",
      "execution_count": 40,
      "metadata": {
        "id": "PMgkb7a7AVXG"
      },
      "outputs": [],
      "source": [
        "# Initialize PyCaret Setup with resampled data\n",
        "resampled_df = pd.DataFrame(X_resampled, columns=X.columns)\n",
        "resampled_df['Sentiment'] = y_resampled\n"
      ]
    },
    {
      "cell_type": "code",
      "execution_count": 41,
      "metadata": {
        "id": "ByAyAleKdq0D"
      },
      "outputs": [],
      "source": [
        "from collections import Counter # Import the Counter class from collections module\n"
      ]
    },
    {
      "cell_type": "code",
      "execution_count": 76,
      "metadata": {
        "colab": {
          "base_uri": "https://localhost:8080/",
          "height": 694
        },
        "id": "ipJKeVKREEO1",
        "outputId": "9bd7bbc0-6bea-4b14-dea0-617b4425a691"
      },
      "outputs": [
        {
          "data": {
            "text/html": [
              "<style type=\"text/css\">\n",
              "#T_4e6a8_row9_col1 {\n",
              "  background-color: lightgreen;\n",
              "}\n",
              "</style>\n",
              "<table id=\"T_4e6a8\">\n",
              "  <thead>\n",
              "    <tr>\n",
              "      <th class=\"blank level0\" >&nbsp;</th>\n",
              "      <th id=\"T_4e6a8_level0_col0\" class=\"col_heading level0 col0\" >Description</th>\n",
              "      <th id=\"T_4e6a8_level0_col1\" class=\"col_heading level0 col1\" >Value</th>\n",
              "    </tr>\n",
              "  </thead>\n",
              "  <tbody>\n",
              "    <tr>\n",
              "      <th id=\"T_4e6a8_level0_row0\" class=\"row_heading level0 row0\" >0</th>\n",
              "      <td id=\"T_4e6a8_row0_col0\" class=\"data row0 col0\" >Session id</td>\n",
              "      <td id=\"T_4e6a8_row0_col1\" class=\"data row0 col1\" >6542</td>\n",
              "    </tr>\n",
              "    <tr>\n",
              "      <th id=\"T_4e6a8_level0_row1\" class=\"row_heading level0 row1\" >1</th>\n",
              "      <td id=\"T_4e6a8_row1_col0\" class=\"data row1 col0\" >Target</td>\n",
              "      <td id=\"T_4e6a8_row1_col1\" class=\"data row1 col1\" >Sentiment</td>\n",
              "    </tr>\n",
              "    <tr>\n",
              "      <th id=\"T_4e6a8_level0_row2\" class=\"row_heading level0 row2\" >2</th>\n",
              "      <td id=\"T_4e6a8_row2_col0\" class=\"data row2 col0\" >Target type</td>\n",
              "      <td id=\"T_4e6a8_row2_col1\" class=\"data row2 col1\" >Multiclass</td>\n",
              "    </tr>\n",
              "    <tr>\n",
              "      <th id=\"T_4e6a8_level0_row3\" class=\"row_heading level0 row3\" >3</th>\n",
              "      <td id=\"T_4e6a8_row3_col0\" class=\"data row3 col0\" >Target mapping</td>\n",
              "      <td id=\"T_4e6a8_row3_col1\" class=\"data row3 col1\" >negative: 0, neutral: 1, positive: 2</td>\n",
              "    </tr>\n",
              "    <tr>\n",
              "      <th id=\"T_4e6a8_level0_row4\" class=\"row_heading level0 row4\" >4</th>\n",
              "      <td id=\"T_4e6a8_row4_col0\" class=\"data row4 col0\" >Original data shape</td>\n",
              "      <td id=\"T_4e6a8_row4_col1\" class=\"data row4 col1\" >(17421, 1001)</td>\n",
              "    </tr>\n",
              "    <tr>\n",
              "      <th id=\"T_4e6a8_level0_row5\" class=\"row_heading level0 row5\" >5</th>\n",
              "      <td id=\"T_4e6a8_row5_col0\" class=\"data row5 col0\" >Transformed data shape</td>\n",
              "      <td id=\"T_4e6a8_row5_col1\" class=\"data row5 col1\" >(17421, 1001)</td>\n",
              "    </tr>\n",
              "    <tr>\n",
              "      <th id=\"T_4e6a8_level0_row6\" class=\"row_heading level0 row6\" >6</th>\n",
              "      <td id=\"T_4e6a8_row6_col0\" class=\"data row6 col0\" >Transformed train set shape</td>\n",
              "      <td id=\"T_4e6a8_row6_col1\" class=\"data row6 col1\" >(12194, 1001)</td>\n",
              "    </tr>\n",
              "    <tr>\n",
              "      <th id=\"T_4e6a8_level0_row7\" class=\"row_heading level0 row7\" >7</th>\n",
              "      <td id=\"T_4e6a8_row7_col0\" class=\"data row7 col0\" >Transformed test set shape</td>\n",
              "      <td id=\"T_4e6a8_row7_col1\" class=\"data row7 col1\" >(5227, 1001)</td>\n",
              "    </tr>\n",
              "    <tr>\n",
              "      <th id=\"T_4e6a8_level0_row8\" class=\"row_heading level0 row8\" >8</th>\n",
              "      <td id=\"T_4e6a8_row8_col0\" class=\"data row8 col0\" >Numeric features</td>\n",
              "      <td id=\"T_4e6a8_row8_col1\" class=\"data row8 col1\" >1000</td>\n",
              "    </tr>\n",
              "    <tr>\n",
              "      <th id=\"T_4e6a8_level0_row9\" class=\"row_heading level0 row9\" >9</th>\n",
              "      <td id=\"T_4e6a8_row9_col0\" class=\"data row9 col0\" >Preprocess</td>\n",
              "      <td id=\"T_4e6a8_row9_col1\" class=\"data row9 col1\" >True</td>\n",
              "    </tr>\n",
              "    <tr>\n",
              "      <th id=\"T_4e6a8_level0_row10\" class=\"row_heading level0 row10\" >10</th>\n",
              "      <td id=\"T_4e6a8_row10_col0\" class=\"data row10 col0\" >Imputation type</td>\n",
              "      <td id=\"T_4e6a8_row10_col1\" class=\"data row10 col1\" >simple</td>\n",
              "    </tr>\n",
              "    <tr>\n",
              "      <th id=\"T_4e6a8_level0_row11\" class=\"row_heading level0 row11\" >11</th>\n",
              "      <td id=\"T_4e6a8_row11_col0\" class=\"data row11 col0\" >Numeric imputation</td>\n",
              "      <td id=\"T_4e6a8_row11_col1\" class=\"data row11 col1\" >mean</td>\n",
              "    </tr>\n",
              "    <tr>\n",
              "      <th id=\"T_4e6a8_level0_row12\" class=\"row_heading level0 row12\" >12</th>\n",
              "      <td id=\"T_4e6a8_row12_col0\" class=\"data row12 col0\" >Categorical imputation</td>\n",
              "      <td id=\"T_4e6a8_row12_col1\" class=\"data row12 col1\" >mode</td>\n",
              "    </tr>\n",
              "    <tr>\n",
              "      <th id=\"T_4e6a8_level0_row13\" class=\"row_heading level0 row13\" >13</th>\n",
              "      <td id=\"T_4e6a8_row13_col0\" class=\"data row13 col0\" >Fold Generator</td>\n",
              "      <td id=\"T_4e6a8_row13_col1\" class=\"data row13 col1\" >StratifiedKFold</td>\n",
              "    </tr>\n",
              "    <tr>\n",
              "      <th id=\"T_4e6a8_level0_row14\" class=\"row_heading level0 row14\" >14</th>\n",
              "      <td id=\"T_4e6a8_row14_col0\" class=\"data row14 col0\" >Fold Number</td>\n",
              "      <td id=\"T_4e6a8_row14_col1\" class=\"data row14 col1\" >10</td>\n",
              "    </tr>\n",
              "    <tr>\n",
              "      <th id=\"T_4e6a8_level0_row15\" class=\"row_heading level0 row15\" >15</th>\n",
              "      <td id=\"T_4e6a8_row15_col0\" class=\"data row15 col0\" >CPU Jobs</td>\n",
              "      <td id=\"T_4e6a8_row15_col1\" class=\"data row15 col1\" >-1</td>\n",
              "    </tr>\n",
              "    <tr>\n",
              "      <th id=\"T_4e6a8_level0_row16\" class=\"row_heading level0 row16\" >16</th>\n",
              "      <td id=\"T_4e6a8_row16_col0\" class=\"data row16 col0\" >Use GPU</td>\n",
              "      <td id=\"T_4e6a8_row16_col1\" class=\"data row16 col1\" >False</td>\n",
              "    </tr>\n",
              "    <tr>\n",
              "      <th id=\"T_4e6a8_level0_row17\" class=\"row_heading level0 row17\" >17</th>\n",
              "      <td id=\"T_4e6a8_row17_col0\" class=\"data row17 col0\" >Log Experiment</td>\n",
              "      <td id=\"T_4e6a8_row17_col1\" class=\"data row17 col1\" >False</td>\n",
              "    </tr>\n",
              "    <tr>\n",
              "      <th id=\"T_4e6a8_level0_row18\" class=\"row_heading level0 row18\" >18</th>\n",
              "      <td id=\"T_4e6a8_row18_col0\" class=\"data row18 col0\" >Experiment Name</td>\n",
              "      <td id=\"T_4e6a8_row18_col1\" class=\"data row18 col1\" >clf-default-name</td>\n",
              "    </tr>\n",
              "    <tr>\n",
              "      <th id=\"T_4e6a8_level0_row19\" class=\"row_heading level0 row19\" >19</th>\n",
              "      <td id=\"T_4e6a8_row19_col0\" class=\"data row19 col0\" >USI</td>\n",
              "      <td id=\"T_4e6a8_row19_col1\" class=\"data row19 col1\" >a895</td>\n",
              "    </tr>\n",
              "  </tbody>\n",
              "</table>\n"
            ],
            "text/plain": [
              "<pandas.io.formats.style.Styler at 0x1ca8f409d00>"
            ]
          },
          "metadata": {},
          "output_type": "display_data"
        },
        {
          "name": "stdout",
          "output_type": "stream",
          "text": [
            "Class distribution after SMOTE: Counter({'negative': 4065, 'neutral': 4065, 'positive': 4064})\n"
          ]
        }
      ],
      "source": [
        "# Define the models you want to evaluate\n",
        "models_to_include = [ 'svm', 'dt', 'rf', 'ridge', 'knn', 'nb', 'xgboost']\n",
        "\n",
        "\n",
        "# Initialize the setup (replace 'your_data' with your actual dataset)\n",
        "clf = setup(data=resampled_df, target='Sentiment', use_gpu=False)\n",
        "\n",
        "# Get y_train from the PyCaret setup\n",
        "y_train = get_config('y_train')\n",
        "\n",
        "# Check class distribution after SMOTE\n",
        "print(\"Class distribution after SMOTE:\", Counter(y_train))  # y_train is now accessible"
      ]
    },
    {
      "cell_type": "code",
      "execution_count": 77,
      "metadata": {
        "colab": {
          "base_uri": "https://localhost:8080/",
          "height": 269,
          "referenced_widgets": [
            "d1c758f7e75840b6a0aadb2c1ecaaae9",
            "3f74807919324deca06c77ae4c445b3f",
            "337d12baa8114cbf945c7f638f08e9b3",
            "0c2a7195b89f46e6be958b6167012c33",
            "76bdddb327664680879255c0934285d2",
            "e486f1f9f7fa48428a2bd1a07f4faf1c",
            "bc5200ed0f634adb992352f079622e26",
            "0bc736757d2a415d8be57155d7ac9f27",
            "ce8f239f29544d5197c823f6b17b747b",
            "23f8d2c7b71749419d6e7e9b44ef2efe",
            "fe36941c37234fbab886a552b949f844"
          ]
        },
        "id": "XQu4pX1vAdam",
        "outputId": "9818ac46-1659-407d-f215-291774e7846a"
      },
      "outputs": [
        {
          "data": {
            "text/html": [],
            "text/plain": [
              "<IPython.core.display.HTML object>"
            ]
          },
          "metadata": {},
          "output_type": "display_data"
        },
        {
          "data": {
            "text/html": [
              "<style type=\"text/css\">\n",
              "#T_17116 th {\n",
              "  text-align: left;\n",
              "}\n",
              "#T_17116_row0_col0, #T_17116_row1_col0, #T_17116_row1_col1, #T_17116_row1_col2, #T_17116_row1_col3, #T_17116_row1_col4, #T_17116_row1_col5, #T_17116_row1_col6, #T_17116_row1_col7, #T_17116_row2_col0, #T_17116_row2_col1, #T_17116_row2_col2, #T_17116_row2_col3, #T_17116_row2_col4, #T_17116_row2_col5, #T_17116_row2_col6, #T_17116_row2_col7, #T_17116_row3_col0, #T_17116_row3_col1, #T_17116_row3_col2, #T_17116_row3_col3, #T_17116_row3_col4, #T_17116_row3_col5, #T_17116_row3_col6, #T_17116_row3_col7, #T_17116_row4_col0, #T_17116_row4_col1, #T_17116_row4_col2, #T_17116_row4_col3, #T_17116_row4_col4, #T_17116_row4_col5, #T_17116_row4_col6, #T_17116_row4_col7, #T_17116_row5_col0, #T_17116_row5_col1, #T_17116_row5_col2, #T_17116_row5_col3, #T_17116_row5_col4, #T_17116_row5_col5, #T_17116_row5_col6, #T_17116_row5_col7, #T_17116_row6_col0, #T_17116_row6_col1, #T_17116_row6_col2, #T_17116_row6_col3, #T_17116_row6_col4, #T_17116_row6_col5, #T_17116_row6_col6, #T_17116_row6_col7 {\n",
              "  text-align: left;\n",
              "}\n",
              "#T_17116_row0_col1, #T_17116_row0_col2, #T_17116_row0_col3, #T_17116_row0_col4, #T_17116_row0_col5, #T_17116_row0_col6, #T_17116_row0_col7 {\n",
              "  text-align: left;\n",
              "  background-color: yellow;\n",
              "}\n",
              "#T_17116_row0_col8, #T_17116_row1_col8, #T_17116_row2_col8, #T_17116_row4_col8, #T_17116_row5_col8, #T_17116_row6_col8 {\n",
              "  text-align: left;\n",
              "  background-color: lightgrey;\n",
              "}\n",
              "#T_17116_row3_col8 {\n",
              "  text-align: left;\n",
              "  background-color: yellow;\n",
              "  background-color: lightgrey;\n",
              "}\n",
              "</style>\n",
              "<table id=\"T_17116\">\n",
              "  <thead>\n",
              "    <tr>\n",
              "      <th class=\"blank level0\" >&nbsp;</th>\n",
              "      <th id=\"T_17116_level0_col0\" class=\"col_heading level0 col0\" >Model</th>\n",
              "      <th id=\"T_17116_level0_col1\" class=\"col_heading level0 col1\" >Accuracy</th>\n",
              "      <th id=\"T_17116_level0_col2\" class=\"col_heading level0 col2\" >AUC</th>\n",
              "      <th id=\"T_17116_level0_col3\" class=\"col_heading level0 col3\" >Recall</th>\n",
              "      <th id=\"T_17116_level0_col4\" class=\"col_heading level0 col4\" >Prec.</th>\n",
              "      <th id=\"T_17116_level0_col5\" class=\"col_heading level0 col5\" >F1</th>\n",
              "      <th id=\"T_17116_level0_col6\" class=\"col_heading level0 col6\" >Kappa</th>\n",
              "      <th id=\"T_17116_level0_col7\" class=\"col_heading level0 col7\" >MCC</th>\n",
              "      <th id=\"T_17116_level0_col8\" class=\"col_heading level0 col8\" >TT (Sec)</th>\n",
              "    </tr>\n",
              "  </thead>\n",
              "  <tbody>\n",
              "    <tr>\n",
              "      <th id=\"T_17116_level0_row0\" class=\"row_heading level0 row0\" >xgboost</th>\n",
              "      <td id=\"T_17116_row0_col0\" class=\"data row0 col0\" >Extreme Gradient Boosting</td>\n",
              "      <td id=\"T_17116_row0_col1\" class=\"data row0 col1\" >0.8842</td>\n",
              "      <td id=\"T_17116_row0_col2\" class=\"data row0 col2\" >0.9723</td>\n",
              "      <td id=\"T_17116_row0_col3\" class=\"data row0 col3\" >0.8842</td>\n",
              "      <td id=\"T_17116_row0_col4\" class=\"data row0 col4\" >0.8834</td>\n",
              "      <td id=\"T_17116_row0_col5\" class=\"data row0 col5\" >0.8836</td>\n",
              "      <td id=\"T_17116_row0_col6\" class=\"data row0 col6\" >0.8263</td>\n",
              "      <td id=\"T_17116_row0_col7\" class=\"data row0 col7\" >0.8265</td>\n",
              "      <td id=\"T_17116_row0_col8\" class=\"data row0 col8\" >20.6750</td>\n",
              "    </tr>\n",
              "    <tr>\n",
              "      <th id=\"T_17116_level0_row1\" class=\"row_heading level0 row1\" >rf</th>\n",
              "      <td id=\"T_17116_row1_col0\" class=\"data row1 col0\" >Random Forest Classifier</td>\n",
              "      <td id=\"T_17116_row1_col1\" class=\"data row1 col1\" >0.8619</td>\n",
              "      <td id=\"T_17116_row1_col2\" class=\"data row1 col2\" >0.9612</td>\n",
              "      <td id=\"T_17116_row1_col3\" class=\"data row1 col3\" >0.8619</td>\n",
              "      <td id=\"T_17116_row1_col4\" class=\"data row1 col4\" >0.8613</td>\n",
              "      <td id=\"T_17116_row1_col5\" class=\"data row1 col5\" >0.8610</td>\n",
              "      <td id=\"T_17116_row1_col6\" class=\"data row1 col6\" >0.7929</td>\n",
              "      <td id=\"T_17116_row1_col7\" class=\"data row1 col7\" >0.7934</td>\n",
              "      <td id=\"T_17116_row1_col8\" class=\"data row1 col8\" >2.3350</td>\n",
              "    </tr>\n",
              "    <tr>\n",
              "      <th id=\"T_17116_level0_row2\" class=\"row_heading level0 row2\" >svm</th>\n",
              "      <td id=\"T_17116_row2_col0\" class=\"data row2 col0\" >SVM - Linear Kernel</td>\n",
              "      <td id=\"T_17116_row2_col1\" class=\"data row2 col1\" >0.8576</td>\n",
              "      <td id=\"T_17116_row2_col2\" class=\"data row2 col2\" >0.0000</td>\n",
              "      <td id=\"T_17116_row2_col3\" class=\"data row2 col3\" >0.8576</td>\n",
              "      <td id=\"T_17116_row2_col4\" class=\"data row2 col4\" >0.8570</td>\n",
              "      <td id=\"T_17116_row2_col5\" class=\"data row2 col5\" >0.8542</td>\n",
              "      <td id=\"T_17116_row2_col6\" class=\"data row2 col6\" >0.7865</td>\n",
              "      <td id=\"T_17116_row2_col7\" class=\"data row2 col7\" >0.7892</td>\n",
              "      <td id=\"T_17116_row2_col8\" class=\"data row2 col8\" >4.1440</td>\n",
              "    </tr>\n",
              "    <tr>\n",
              "      <th id=\"T_17116_level0_row3\" class=\"row_heading level0 row3\" >ridge</th>\n",
              "      <td id=\"T_17116_row3_col0\" class=\"data row3 col0\" >Ridge Classifier</td>\n",
              "      <td id=\"T_17116_row3_col1\" class=\"data row3 col1\" >0.8441</td>\n",
              "      <td id=\"T_17116_row3_col2\" class=\"data row3 col2\" >0.0000</td>\n",
              "      <td id=\"T_17116_row3_col3\" class=\"data row3 col3\" >0.8441</td>\n",
              "      <td id=\"T_17116_row3_col4\" class=\"data row3 col4\" >0.8420</td>\n",
              "      <td id=\"T_17116_row3_col5\" class=\"data row3 col5\" >0.8403</td>\n",
              "      <td id=\"T_17116_row3_col6\" class=\"data row3 col6\" >0.7662</td>\n",
              "      <td id=\"T_17116_row3_col7\" class=\"data row3 col7\" >0.7686</td>\n",
              "      <td id=\"T_17116_row3_col8\" class=\"data row3 col8\" >0.6110</td>\n",
              "    </tr>\n",
              "    <tr>\n",
              "      <th id=\"T_17116_level0_row4\" class=\"row_heading level0 row4\" >nb</th>\n",
              "      <td id=\"T_17116_row4_col0\" class=\"data row4 col0\" >Naive Bayes</td>\n",
              "      <td id=\"T_17116_row4_col1\" class=\"data row4 col1\" >0.7765</td>\n",
              "      <td id=\"T_17116_row4_col2\" class=\"data row4 col2\" >0.8922</td>\n",
              "      <td id=\"T_17116_row4_col3\" class=\"data row4 col3\" >0.7765</td>\n",
              "      <td id=\"T_17116_row4_col4\" class=\"data row4 col4\" >0.7718</td>\n",
              "      <td id=\"T_17116_row4_col5\" class=\"data row4 col5\" >0.7692</td>\n",
              "      <td id=\"T_17116_row4_col6\" class=\"data row4 col6\" >0.6648</td>\n",
              "      <td id=\"T_17116_row4_col7\" class=\"data row4 col7\" >0.6692</td>\n",
              "      <td id=\"T_17116_row4_col8\" class=\"data row4 col8\" >0.6450</td>\n",
              "    </tr>\n",
              "    <tr>\n",
              "      <th id=\"T_17116_level0_row5\" class=\"row_heading level0 row5\" >dt</th>\n",
              "      <td id=\"T_17116_row5_col0\" class=\"data row5 col0\" >Decision Tree Classifier</td>\n",
              "      <td id=\"T_17116_row5_col1\" class=\"data row5 col1\" >0.7560</td>\n",
              "      <td id=\"T_17116_row5_col2\" class=\"data row5 col2\" >0.8170</td>\n",
              "      <td id=\"T_17116_row5_col3\" class=\"data row5 col3\" >0.7560</td>\n",
              "      <td id=\"T_17116_row5_col4\" class=\"data row5 col4\" >0.7511</td>\n",
              "      <td id=\"T_17116_row5_col5\" class=\"data row5 col5\" >0.7529</td>\n",
              "      <td id=\"T_17116_row5_col6\" class=\"data row5 col6\" >0.6340</td>\n",
              "      <td id=\"T_17116_row5_col7\" class=\"data row5 col7\" >0.6346</td>\n",
              "      <td id=\"T_17116_row5_col8\" class=\"data row5 col8\" >1.8580</td>\n",
              "    </tr>\n",
              "    <tr>\n",
              "      <th id=\"T_17116_level0_row6\" class=\"row_heading level0 row6\" >knn</th>\n",
              "      <td id=\"T_17116_row6_col0\" class=\"data row6 col0\" >K Neighbors Classifier</td>\n",
              "      <td id=\"T_17116_row6_col1\" class=\"data row6 col1\" >0.6557</td>\n",
              "      <td id=\"T_17116_row6_col2\" class=\"data row6 col2\" >0.7950</td>\n",
              "      <td id=\"T_17116_row6_col3\" class=\"data row6 col3\" >0.6557</td>\n",
              "      <td id=\"T_17116_row6_col4\" class=\"data row6 col4\" >0.7506</td>\n",
              "      <td id=\"T_17116_row6_col5\" class=\"data row6 col5\" >0.5662</td>\n",
              "      <td id=\"T_17116_row6_col6\" class=\"data row6 col6\" >0.4836</td>\n",
              "      <td id=\"T_17116_row6_col7\" class=\"data row6 col7\" >0.5423</td>\n",
              "      <td id=\"T_17116_row6_col8\" class=\"data row6 col8\" >1.2910</td>\n",
              "    </tr>\n",
              "  </tbody>\n",
              "</table>\n"
            ],
            "text/plain": [
              "<pandas.io.formats.style.Styler at 0x1ca8f7be220>"
            ]
          },
          "metadata": {},
          "output_type": "display_data"
        },
        {
          "data": {
            "text/html": [],
            "text/plain": [
              "<IPython.core.display.HTML object>"
            ]
          },
          "metadata": {},
          "output_type": "display_data"
        }
      ],
      "source": [
        "# Compare only those 1 models\n",
        "best_model = compare_models(include=models_to_include, n_select=1)"
      ]
    },
    {
      "cell_type": "code",
      "execution_count": 42,
      "metadata": {},
      "outputs": [
        {
          "name": "stdout",
          "output_type": "stream",
          "text": [
            "['negative' 'neutral' 'positive']\n"
          ]
        }
      ],
      "source": [
        "from sklearn.preprocessing import LabelEncoder\n",
        "\n",
        "# Initialize the label encoder\n",
        "label_encoder = LabelEncoder()\n",
        "\n",
        "# Fit and transform the labels\n",
        "y_resampled_encoded = label_encoder.fit_transform(y_resampled)\n",
        "\n",
        "# You can view the mapping of labels\n",
        "print(label_encoder.classes_)  # ['negative' 'neutral' 'positive']\n"
      ]
    },
    {
      "cell_type": "code",
      "execution_count": 43,
      "metadata": {},
      "outputs": [
        {
          "name": "stdout",
          "output_type": "stream",
          "text": [
            "Class: negative, Encoded Value: 0\n",
            "Class: neutral, Encoded Value: 1\n",
            "Class: positive, Encoded Value: 2\n"
          ]
        }
      ],
      "source": [
        "for i, label in enumerate(label_encoder.classes_):\n",
        "    print(f\"Class: {label}, Encoded Value: {i}\")"
      ]
    },
    {
      "cell_type": "code",
      "execution_count": 44,
      "metadata": {},
      "outputs": [
        {
          "data": {
            "text/plain": [
              "array([2, 1, 1, ..., 2, 2, 2])"
            ]
          },
          "execution_count": 44,
          "metadata": {},
          "output_type": "execute_result"
        }
      ],
      "source": [
        "y_resampled_encoded"
      ]
    },
    {
      "cell_type": "code",
      "execution_count": 45,
      "metadata": {},
      "outputs": [],
      "source": [
        "import numpy as np\n",
        "import pandas as pd\n",
        "from sklearn.model_selection import train_test_split,RandomizedSearchCV\n",
        "from sklearn.metrics import classification_report, accuracy_score\n",
        "from xgboost import XGBClassifier\n"
      ]
    },
    {
      "cell_type": "code",
      "execution_count": 46,
      "metadata": {},
      "outputs": [],
      "source": [
        "X_train, X_test, y_train, y_test = train_test_split(X_resampled, y_resampled_encoded, test_size=0.2, random_state=42)\n"
      ]
    },
    {
      "cell_type": "code",
      "execution_count": 47,
      "metadata": {},
      "outputs": [
        {
          "name": "stdout",
          "output_type": "stream",
          "text": [
            "Test set class distribution: Counter({0: 1172, 2: 1160, 1: 1153})\n"
          ]
        }
      ],
      "source": [
        "from collections import Counter\n",
        "\n",
        "print(\"Test set class distribution:\", Counter(y_test))\n"
      ]
    },
    {
      "cell_type": "code",
      "execution_count": 48,
      "metadata": {},
      "outputs": [],
      "source": [
        "# Initialize XGBoost classifier\n",
        "xgb_model = XGBClassifier(use_label_encoder=False, eval_metric='logloss',random_state=42)\n",
        "\n",
        "# Define the parameter distribution (instead of a grid)\n",
        "param_dist = {\n",
        "    'n_estimators': [100, 200],\n",
        "    'max_depth': [3, 5],\n",
        "    'learning_rate': [0.01, 0.1, 0.2],\n",
        "    'subsample': [0.8, 1.0],\n",
        "    'colsample_bytree': [0.8, 1.0],\n",
        "    'gamma': [0, 1, 2]\n",
        "}\n"
      ]
    },
    {
      "cell_type": "code",
      "execution_count": 50,
      "metadata": {},
      "outputs": [],
      "source": [
        "# Randomized search\n",
        "random_search = RandomizedSearchCV(\n",
        "    estimator=xgb_model,\n",
        "    param_distributions=param_dist,\n",
        "    n_iter=75,  # Number of random samples to test\n",
        "    scoring='accuracy',\n",
        "    cv=3,\n",
        "    verbose=1,\n",
        "    n_jobs=-1,\n",
        "    random_state=42\n",
        ")"
      ]
    },
    {
      "cell_type": "code",
      "execution_count": 51,
      "metadata": {},
      "outputs": [
        {
          "name": "stdout",
          "output_type": "stream",
          "text": [
            "Fitting 3 folds for each of 75 candidates, totalling 225 fits\n"
          ]
        },
        {
          "data": {
            "text/html": [
              "<style>#sk-container-id-1 {\n",
              "  /* Definition of color scheme common for light and dark mode */\n",
              "  --sklearn-color-text: black;\n",
              "  --sklearn-color-line: gray;\n",
              "  /* Definition of color scheme for unfitted estimators */\n",
              "  --sklearn-color-unfitted-level-0: #fff5e6;\n",
              "  --sklearn-color-unfitted-level-1: #f6e4d2;\n",
              "  --sklearn-color-unfitted-level-2: #ffe0b3;\n",
              "  --sklearn-color-unfitted-level-3: chocolate;\n",
              "  /* Definition of color scheme for fitted estimators */\n",
              "  --sklearn-color-fitted-level-0: #f0f8ff;\n",
              "  --sklearn-color-fitted-level-1: #d4ebff;\n",
              "  --sklearn-color-fitted-level-2: #b3dbfd;\n",
              "  --sklearn-color-fitted-level-3: cornflowerblue;\n",
              "\n",
              "  /* Specific color for light theme */\n",
              "  --sklearn-color-text-on-default-background: var(--sg-text-color, var(--theme-code-foreground, var(--jp-content-font-color1, black)));\n",
              "  --sklearn-color-background: var(--sg-background-color, var(--theme-background, var(--jp-layout-color0, white)));\n",
              "  --sklearn-color-border-box: var(--sg-text-color, var(--theme-code-foreground, var(--jp-content-font-color1, black)));\n",
              "  --sklearn-color-icon: #696969;\n",
              "\n",
              "  @media (prefers-color-scheme: dark) {\n",
              "    /* Redefinition of color scheme for dark theme */\n",
              "    --sklearn-color-text-on-default-background: var(--sg-text-color, var(--theme-code-foreground, var(--jp-content-font-color1, white)));\n",
              "    --sklearn-color-background: var(--sg-background-color, var(--theme-background, var(--jp-layout-color0, #111)));\n",
              "    --sklearn-color-border-box: var(--sg-text-color, var(--theme-code-foreground, var(--jp-content-font-color1, white)));\n",
              "    --sklearn-color-icon: #878787;\n",
              "  }\n",
              "}\n",
              "\n",
              "#sk-container-id-1 {\n",
              "  color: var(--sklearn-color-text);\n",
              "}\n",
              "\n",
              "#sk-container-id-1 pre {\n",
              "  padding: 0;\n",
              "}\n",
              "\n",
              "#sk-container-id-1 input.sk-hidden--visually {\n",
              "  border: 0;\n",
              "  clip: rect(1px 1px 1px 1px);\n",
              "  clip: rect(1px, 1px, 1px, 1px);\n",
              "  height: 1px;\n",
              "  margin: -1px;\n",
              "  overflow: hidden;\n",
              "  padding: 0;\n",
              "  position: absolute;\n",
              "  width: 1px;\n",
              "}\n",
              "\n",
              "#sk-container-id-1 div.sk-dashed-wrapped {\n",
              "  border: 1px dashed var(--sklearn-color-line);\n",
              "  margin: 0 0.4em 0.5em 0.4em;\n",
              "  box-sizing: border-box;\n",
              "  padding-bottom: 0.4em;\n",
              "  background-color: var(--sklearn-color-background);\n",
              "}\n",
              "\n",
              "#sk-container-id-1 div.sk-container {\n",
              "  /* jupyter's `normalize.less` sets `[hidden] { display: none; }`\n",
              "     but bootstrap.min.css set `[hidden] { display: none !important; }`\n",
              "     so we also need the `!important` here to be able to override the\n",
              "     default hidden behavior on the sphinx rendered scikit-learn.org.\n",
              "     See: https://github.com/scikit-learn/scikit-learn/issues/21755 */\n",
              "  display: inline-block !important;\n",
              "  position: relative;\n",
              "}\n",
              "\n",
              "#sk-container-id-1 div.sk-text-repr-fallback {\n",
              "  display: none;\n",
              "}\n",
              "\n",
              "div.sk-parallel-item,\n",
              "div.sk-serial,\n",
              "div.sk-item {\n",
              "  /* draw centered vertical line to link estimators */\n",
              "  background-image: linear-gradient(var(--sklearn-color-text-on-default-background), var(--sklearn-color-text-on-default-background));\n",
              "  background-size: 2px 100%;\n",
              "  background-repeat: no-repeat;\n",
              "  background-position: center center;\n",
              "}\n",
              "\n",
              "/* Parallel-specific style estimator block */\n",
              "\n",
              "#sk-container-id-1 div.sk-parallel-item::after {\n",
              "  content: \"\";\n",
              "  width: 100%;\n",
              "  border-bottom: 2px solid var(--sklearn-color-text-on-default-background);\n",
              "  flex-grow: 1;\n",
              "}\n",
              "\n",
              "#sk-container-id-1 div.sk-parallel {\n",
              "  display: flex;\n",
              "  align-items: stretch;\n",
              "  justify-content: center;\n",
              "  background-color: var(--sklearn-color-background);\n",
              "  position: relative;\n",
              "}\n",
              "\n",
              "#sk-container-id-1 div.sk-parallel-item {\n",
              "  display: flex;\n",
              "  flex-direction: column;\n",
              "}\n",
              "\n",
              "#sk-container-id-1 div.sk-parallel-item:first-child::after {\n",
              "  align-self: flex-end;\n",
              "  width: 50%;\n",
              "}\n",
              "\n",
              "#sk-container-id-1 div.sk-parallel-item:last-child::after {\n",
              "  align-self: flex-start;\n",
              "  width: 50%;\n",
              "}\n",
              "\n",
              "#sk-container-id-1 div.sk-parallel-item:only-child::after {\n",
              "  width: 0;\n",
              "}\n",
              "\n",
              "/* Serial-specific style estimator block */\n",
              "\n",
              "#sk-container-id-1 div.sk-serial {\n",
              "  display: flex;\n",
              "  flex-direction: column;\n",
              "  align-items: center;\n",
              "  background-color: var(--sklearn-color-background);\n",
              "  padding-right: 1em;\n",
              "  padding-left: 1em;\n",
              "}\n",
              "\n",
              "\n",
              "/* Toggleable style: style used for estimator/Pipeline/ColumnTransformer box that is\n",
              "clickable and can be expanded/collapsed.\n",
              "- Pipeline and ColumnTransformer use this feature and define the default style\n",
              "- Estimators will overwrite some part of the style using the `sk-estimator` class\n",
              "*/\n",
              "\n",
              "/* Pipeline and ColumnTransformer style (default) */\n",
              "\n",
              "#sk-container-id-1 div.sk-toggleable {\n",
              "  /* Default theme specific background. It is overwritten whether we have a\n",
              "  specific estimator or a Pipeline/ColumnTransformer */\n",
              "  background-color: var(--sklearn-color-background);\n",
              "}\n",
              "\n",
              "/* Toggleable label */\n",
              "#sk-container-id-1 label.sk-toggleable__label {\n",
              "  cursor: pointer;\n",
              "  display: block;\n",
              "  width: 100%;\n",
              "  margin-bottom: 0;\n",
              "  padding: 0.5em;\n",
              "  box-sizing: border-box;\n",
              "  text-align: center;\n",
              "}\n",
              "\n",
              "#sk-container-id-1 label.sk-toggleable__label-arrow:before {\n",
              "  /* Arrow on the left of the label */\n",
              "  content: \"▸\";\n",
              "  float: left;\n",
              "  margin-right: 0.25em;\n",
              "  color: var(--sklearn-color-icon);\n",
              "}\n",
              "\n",
              "#sk-container-id-1 label.sk-toggleable__label-arrow:hover:before {\n",
              "  color: var(--sklearn-color-text);\n",
              "}\n",
              "\n",
              "/* Toggleable content - dropdown */\n",
              "\n",
              "#sk-container-id-1 div.sk-toggleable__content {\n",
              "  max-height: 0;\n",
              "  max-width: 0;\n",
              "  overflow: hidden;\n",
              "  text-align: left;\n",
              "  /* unfitted */\n",
              "  background-color: var(--sklearn-color-unfitted-level-0);\n",
              "}\n",
              "\n",
              "#sk-container-id-1 div.sk-toggleable__content.fitted {\n",
              "  /* fitted */\n",
              "  background-color: var(--sklearn-color-fitted-level-0);\n",
              "}\n",
              "\n",
              "#sk-container-id-1 div.sk-toggleable__content pre {\n",
              "  margin: 0.2em;\n",
              "  border-radius: 0.25em;\n",
              "  color: var(--sklearn-color-text);\n",
              "  /* unfitted */\n",
              "  background-color: var(--sklearn-color-unfitted-level-0);\n",
              "}\n",
              "\n",
              "#sk-container-id-1 div.sk-toggleable__content.fitted pre {\n",
              "  /* unfitted */\n",
              "  background-color: var(--sklearn-color-fitted-level-0);\n",
              "}\n",
              "\n",
              "#sk-container-id-1 input.sk-toggleable__control:checked~div.sk-toggleable__content {\n",
              "  /* Expand drop-down */\n",
              "  max-height: 200px;\n",
              "  max-width: 100%;\n",
              "  overflow: auto;\n",
              "}\n",
              "\n",
              "#sk-container-id-1 input.sk-toggleable__control:checked~label.sk-toggleable__label-arrow:before {\n",
              "  content: \"▾\";\n",
              "}\n",
              "\n",
              "/* Pipeline/ColumnTransformer-specific style */\n",
              "\n",
              "#sk-container-id-1 div.sk-label input.sk-toggleable__control:checked~label.sk-toggleable__label {\n",
              "  color: var(--sklearn-color-text);\n",
              "  background-color: var(--sklearn-color-unfitted-level-2);\n",
              "}\n",
              "\n",
              "#sk-container-id-1 div.sk-label.fitted input.sk-toggleable__control:checked~label.sk-toggleable__label {\n",
              "  background-color: var(--sklearn-color-fitted-level-2);\n",
              "}\n",
              "\n",
              "/* Estimator-specific style */\n",
              "\n",
              "/* Colorize estimator box */\n",
              "#sk-container-id-1 div.sk-estimator input.sk-toggleable__control:checked~label.sk-toggleable__label {\n",
              "  /* unfitted */\n",
              "  background-color: var(--sklearn-color-unfitted-level-2);\n",
              "}\n",
              "\n",
              "#sk-container-id-1 div.sk-estimator.fitted input.sk-toggleable__control:checked~label.sk-toggleable__label {\n",
              "  /* fitted */\n",
              "  background-color: var(--sklearn-color-fitted-level-2);\n",
              "}\n",
              "\n",
              "#sk-container-id-1 div.sk-label label.sk-toggleable__label,\n",
              "#sk-container-id-1 div.sk-label label {\n",
              "  /* The background is the default theme color */\n",
              "  color: var(--sklearn-color-text-on-default-background);\n",
              "}\n",
              "\n",
              "/* On hover, darken the color of the background */\n",
              "#sk-container-id-1 div.sk-label:hover label.sk-toggleable__label {\n",
              "  color: var(--sklearn-color-text);\n",
              "  background-color: var(--sklearn-color-unfitted-level-2);\n",
              "}\n",
              "\n",
              "/* Label box, darken color on hover, fitted */\n",
              "#sk-container-id-1 div.sk-label.fitted:hover label.sk-toggleable__label.fitted {\n",
              "  color: var(--sklearn-color-text);\n",
              "  background-color: var(--sklearn-color-fitted-level-2);\n",
              "}\n",
              "\n",
              "/* Estimator label */\n",
              "\n",
              "#sk-container-id-1 div.sk-label label {\n",
              "  font-family: monospace;\n",
              "  font-weight: bold;\n",
              "  display: inline-block;\n",
              "  line-height: 1.2em;\n",
              "}\n",
              "\n",
              "#sk-container-id-1 div.sk-label-container {\n",
              "  text-align: center;\n",
              "}\n",
              "\n",
              "/* Estimator-specific */\n",
              "#sk-container-id-1 div.sk-estimator {\n",
              "  font-family: monospace;\n",
              "  border: 1px dotted var(--sklearn-color-border-box);\n",
              "  border-radius: 0.25em;\n",
              "  box-sizing: border-box;\n",
              "  margin-bottom: 0.5em;\n",
              "  /* unfitted */\n",
              "  background-color: var(--sklearn-color-unfitted-level-0);\n",
              "}\n",
              "\n",
              "#sk-container-id-1 div.sk-estimator.fitted {\n",
              "  /* fitted */\n",
              "  background-color: var(--sklearn-color-fitted-level-0);\n",
              "}\n",
              "\n",
              "/* on hover */\n",
              "#sk-container-id-1 div.sk-estimator:hover {\n",
              "  /* unfitted */\n",
              "  background-color: var(--sklearn-color-unfitted-level-2);\n",
              "}\n",
              "\n",
              "#sk-container-id-1 div.sk-estimator.fitted:hover {\n",
              "  /* fitted */\n",
              "  background-color: var(--sklearn-color-fitted-level-2);\n",
              "}\n",
              "\n",
              "/* Specification for estimator info (e.g. \"i\" and \"?\") */\n",
              "\n",
              "/* Common style for \"i\" and \"?\" */\n",
              "\n",
              ".sk-estimator-doc-link,\n",
              "a:link.sk-estimator-doc-link,\n",
              "a:visited.sk-estimator-doc-link {\n",
              "  float: right;\n",
              "  font-size: smaller;\n",
              "  line-height: 1em;\n",
              "  font-family: monospace;\n",
              "  background-color: var(--sklearn-color-background);\n",
              "  border-radius: 1em;\n",
              "  height: 1em;\n",
              "  width: 1em;\n",
              "  text-decoration: none !important;\n",
              "  margin-left: 1ex;\n",
              "  /* unfitted */\n",
              "  border: var(--sklearn-color-unfitted-level-1) 1pt solid;\n",
              "  color: var(--sklearn-color-unfitted-level-1);\n",
              "}\n",
              "\n",
              ".sk-estimator-doc-link.fitted,\n",
              "a:link.sk-estimator-doc-link.fitted,\n",
              "a:visited.sk-estimator-doc-link.fitted {\n",
              "  /* fitted */\n",
              "  border: var(--sklearn-color-fitted-level-1) 1pt solid;\n",
              "  color: var(--sklearn-color-fitted-level-1);\n",
              "}\n",
              "\n",
              "/* On hover */\n",
              "div.sk-estimator:hover .sk-estimator-doc-link:hover,\n",
              ".sk-estimator-doc-link:hover,\n",
              "div.sk-label-container:hover .sk-estimator-doc-link:hover,\n",
              ".sk-estimator-doc-link:hover {\n",
              "  /* unfitted */\n",
              "  background-color: var(--sklearn-color-unfitted-level-3);\n",
              "  color: var(--sklearn-color-background);\n",
              "  text-decoration: none;\n",
              "}\n",
              "\n",
              "div.sk-estimator.fitted:hover .sk-estimator-doc-link.fitted:hover,\n",
              ".sk-estimator-doc-link.fitted:hover,\n",
              "div.sk-label-container:hover .sk-estimator-doc-link.fitted:hover,\n",
              ".sk-estimator-doc-link.fitted:hover {\n",
              "  /* fitted */\n",
              "  background-color: var(--sklearn-color-fitted-level-3);\n",
              "  color: var(--sklearn-color-background);\n",
              "  text-decoration: none;\n",
              "}\n",
              "\n",
              "/* Span, style for the box shown on hovering the info icon */\n",
              ".sk-estimator-doc-link span {\n",
              "  display: none;\n",
              "  z-index: 9999;\n",
              "  position: relative;\n",
              "  font-weight: normal;\n",
              "  right: .2ex;\n",
              "  padding: .5ex;\n",
              "  margin: .5ex;\n",
              "  width: min-content;\n",
              "  min-width: 20ex;\n",
              "  max-width: 50ex;\n",
              "  color: var(--sklearn-color-text);\n",
              "  box-shadow: 2pt 2pt 4pt #999;\n",
              "  /* unfitted */\n",
              "  background: var(--sklearn-color-unfitted-level-0);\n",
              "  border: .5pt solid var(--sklearn-color-unfitted-level-3);\n",
              "}\n",
              "\n",
              ".sk-estimator-doc-link.fitted span {\n",
              "  /* fitted */\n",
              "  background: var(--sklearn-color-fitted-level-0);\n",
              "  border: var(--sklearn-color-fitted-level-3);\n",
              "}\n",
              "\n",
              ".sk-estimator-doc-link:hover span {\n",
              "  display: block;\n",
              "}\n",
              "\n",
              "/* \"?\"-specific style due to the `<a>` HTML tag */\n",
              "\n",
              "#sk-container-id-1 a.estimator_doc_link {\n",
              "  float: right;\n",
              "  font-size: 1rem;\n",
              "  line-height: 1em;\n",
              "  font-family: monospace;\n",
              "  background-color: var(--sklearn-color-background);\n",
              "  border-radius: 1rem;\n",
              "  height: 1rem;\n",
              "  width: 1rem;\n",
              "  text-decoration: none;\n",
              "  /* unfitted */\n",
              "  color: var(--sklearn-color-unfitted-level-1);\n",
              "  border: var(--sklearn-color-unfitted-level-1) 1pt solid;\n",
              "}\n",
              "\n",
              "#sk-container-id-1 a.estimator_doc_link.fitted {\n",
              "  /* fitted */\n",
              "  border: var(--sklearn-color-fitted-level-1) 1pt solid;\n",
              "  color: var(--sklearn-color-fitted-level-1);\n",
              "}\n",
              "\n",
              "/* On hover */\n",
              "#sk-container-id-1 a.estimator_doc_link:hover {\n",
              "  /* unfitted */\n",
              "  background-color: var(--sklearn-color-unfitted-level-3);\n",
              "  color: var(--sklearn-color-background);\n",
              "  text-decoration: none;\n",
              "}\n",
              "\n",
              "#sk-container-id-1 a.estimator_doc_link.fitted:hover {\n",
              "  /* fitted */\n",
              "  background-color: var(--sklearn-color-fitted-level-3);\n",
              "}\n",
              "</style><div id=\"sk-container-id-1\" class=\"sk-top-container\"><div class=\"sk-text-repr-fallback\"><pre>RandomizedSearchCV(cv=3,\n",
              "                   estimator=XGBClassifier(base_score=None, booster=None,\n",
              "                                           callbacks=None,\n",
              "                                           colsample_bylevel=None,\n",
              "                                           colsample_bynode=None,\n",
              "                                           colsample_bytree=None, device=None,\n",
              "                                           early_stopping_rounds=None,\n",
              "                                           enable_categorical=False,\n",
              "                                           eval_metric=&#x27;logloss&#x27;,\n",
              "                                           feature_types=None, gamma=None,\n",
              "                                           grow_policy=None,\n",
              "                                           importance_type=None,\n",
              "                                           interaction_constraints=None,\n",
              "                                           learning...\n",
              "                                           min_child_weight=None, missing=nan,\n",
              "                                           monotone_constraints=None,\n",
              "                                           multi_strategy=None,\n",
              "                                           n_estimators=None, n_jobs=None,\n",
              "                                           num_parallel_tree=None,\n",
              "                                           random_state=42, ...),\n",
              "                   n_iter=75, n_jobs=-1,\n",
              "                   param_distributions={&#x27;colsample_bytree&#x27;: [0.8, 1.0],\n",
              "                                        &#x27;gamma&#x27;: [0, 1, 2],\n",
              "                                        &#x27;learning_rate&#x27;: [0.01, 0.1, 0.2],\n",
              "                                        &#x27;max_depth&#x27;: [3, 5],\n",
              "                                        &#x27;n_estimators&#x27;: [100, 200],\n",
              "                                        &#x27;subsample&#x27;: [0.8, 1.0]},\n",
              "                   random_state=42, scoring=&#x27;accuracy&#x27;, verbose=1)</pre><b>In a Jupyter environment, please rerun this cell to show the HTML representation or trust the notebook. <br />On GitHub, the HTML representation is unable to render, please try loading this page with nbviewer.org.</b></div><div class=\"sk-container\" hidden><div class=\"sk-item sk-dashed-wrapped\"><div class=\"sk-label-container\"><div class=\"sk-label fitted sk-toggleable\"><input class=\"sk-toggleable__control sk-hidden--visually\" id=\"sk-estimator-id-1\" type=\"checkbox\" ><label for=\"sk-estimator-id-1\" class=\"sk-toggleable__label fitted sk-toggleable__label-arrow fitted\">&nbsp;&nbsp;RandomizedSearchCV<a class=\"sk-estimator-doc-link fitted\" rel=\"noreferrer\" target=\"_blank\" href=\"https://scikit-learn.org/1.4/modules/generated/sklearn.model_selection.RandomizedSearchCV.html\">?<span>Documentation for RandomizedSearchCV</span></a><span class=\"sk-estimator-doc-link fitted\">i<span>Fitted</span></span></label><div class=\"sk-toggleable__content fitted\"><pre>RandomizedSearchCV(cv=3,\n",
              "                   estimator=XGBClassifier(base_score=None, booster=None,\n",
              "                                           callbacks=None,\n",
              "                                           colsample_bylevel=None,\n",
              "                                           colsample_bynode=None,\n",
              "                                           colsample_bytree=None, device=None,\n",
              "                                           early_stopping_rounds=None,\n",
              "                                           enable_categorical=False,\n",
              "                                           eval_metric=&#x27;logloss&#x27;,\n",
              "                                           feature_types=None, gamma=None,\n",
              "                                           grow_policy=None,\n",
              "                                           importance_type=None,\n",
              "                                           interaction_constraints=None,\n",
              "                                           learning...\n",
              "                                           min_child_weight=None, missing=nan,\n",
              "                                           monotone_constraints=None,\n",
              "                                           multi_strategy=None,\n",
              "                                           n_estimators=None, n_jobs=None,\n",
              "                                           num_parallel_tree=None,\n",
              "                                           random_state=42, ...),\n",
              "                   n_iter=75, n_jobs=-1,\n",
              "                   param_distributions={&#x27;colsample_bytree&#x27;: [0.8, 1.0],\n",
              "                                        &#x27;gamma&#x27;: [0, 1, 2],\n",
              "                                        &#x27;learning_rate&#x27;: [0.01, 0.1, 0.2],\n",
              "                                        &#x27;max_depth&#x27;: [3, 5],\n",
              "                                        &#x27;n_estimators&#x27;: [100, 200],\n",
              "                                        &#x27;subsample&#x27;: [0.8, 1.0]},\n",
              "                   random_state=42, scoring=&#x27;accuracy&#x27;, verbose=1)</pre></div> </div></div><div class=\"sk-parallel\"><div class=\"sk-parallel-item\"><div class=\"sk-item\"><div class=\"sk-label-container\"><div class=\"sk-label fitted sk-toggleable\"><input class=\"sk-toggleable__control sk-hidden--visually\" id=\"sk-estimator-id-2\" type=\"checkbox\" ><label for=\"sk-estimator-id-2\" class=\"sk-toggleable__label fitted sk-toggleable__label-arrow fitted\">estimator: XGBClassifier</label><div class=\"sk-toggleable__content fitted\"><pre>XGBClassifier(base_score=None, booster=None, callbacks=None,\n",
              "              colsample_bylevel=None, colsample_bynode=None,\n",
              "              colsample_bytree=None, device=None, early_stopping_rounds=None,\n",
              "              enable_categorical=False, eval_metric=&#x27;logloss&#x27;,\n",
              "              feature_types=None, gamma=None, grow_policy=None,\n",
              "              importance_type=None, interaction_constraints=None,\n",
              "              learning_rate=None, max_bin=None, max_cat_threshold=None,\n",
              "              max_cat_to_onehot=None, max_delta_step=None, max_depth=None,\n",
              "              max_leaves=None, min_child_weight=None, missing=nan,\n",
              "              monotone_constraints=None, multi_strategy=None, n_estimators=None,\n",
              "              n_jobs=None, num_parallel_tree=None, random_state=42, ...)</pre></div> </div></div><div class=\"sk-serial\"><div class=\"sk-item\"><div class=\"sk-estimator fitted sk-toggleable\"><input class=\"sk-toggleable__control sk-hidden--visually\" id=\"sk-estimator-id-3\" type=\"checkbox\" ><label for=\"sk-estimator-id-3\" class=\"sk-toggleable__label fitted sk-toggleable__label-arrow fitted\">XGBClassifier</label><div class=\"sk-toggleable__content fitted\"><pre>XGBClassifier(base_score=None, booster=None, callbacks=None,\n",
              "              colsample_bylevel=None, colsample_bynode=None,\n",
              "              colsample_bytree=None, device=None, early_stopping_rounds=None,\n",
              "              enable_categorical=False, eval_metric=&#x27;logloss&#x27;,\n",
              "              feature_types=None, gamma=None, grow_policy=None,\n",
              "              importance_type=None, interaction_constraints=None,\n",
              "              learning_rate=None, max_bin=None, max_cat_threshold=None,\n",
              "              max_cat_to_onehot=None, max_delta_step=None, max_depth=None,\n",
              "              max_leaves=None, min_child_weight=None, missing=nan,\n",
              "              monotone_constraints=None, multi_strategy=None, n_estimators=None,\n",
              "              n_jobs=None, num_parallel_tree=None, random_state=42, ...)</pre></div> </div></div></div></div></div></div></div></div></div>"
            ],
            "text/plain": [
              "RandomizedSearchCV(cv=3,\n",
              "                   estimator=XGBClassifier(base_score=None, booster=None,\n",
              "                                           callbacks=None,\n",
              "                                           colsample_bylevel=None,\n",
              "                                           colsample_bynode=None,\n",
              "                                           colsample_bytree=None, device=None,\n",
              "                                           early_stopping_rounds=None,\n",
              "                                           enable_categorical=False,\n",
              "                                           eval_metric='logloss',\n",
              "                                           feature_types=None, gamma=None,\n",
              "                                           grow_policy=None,\n",
              "                                           importance_type=None,\n",
              "                                           interaction_constraints=None,\n",
              "                                           learning...\n",
              "                                           min_child_weight=None, missing=nan,\n",
              "                                           monotone_constraints=None,\n",
              "                                           multi_strategy=None,\n",
              "                                           n_estimators=None, n_jobs=None,\n",
              "                                           num_parallel_tree=None,\n",
              "                                           random_state=42, ...),\n",
              "                   n_iter=75, n_jobs=-1,\n",
              "                   param_distributions={'colsample_bytree': [0.8, 1.0],\n",
              "                                        'gamma': [0, 1, 2],\n",
              "                                        'learning_rate': [0.01, 0.1, 0.2],\n",
              "                                        'max_depth': [3, 5],\n",
              "                                        'n_estimators': [100, 200],\n",
              "                                        'subsample': [0.8, 1.0]},\n",
              "                   random_state=42, scoring='accuracy', verbose=1)"
            ]
          },
          "execution_count": 51,
          "metadata": {},
          "output_type": "execute_result"
        }
      ],
      "source": [
        "# Perform randomized search\n",
        "random_search.fit(X_resampled, y_resampled_encoded)"
      ]
    },
    {
      "cell_type": "code",
      "execution_count": 52,
      "metadata": {},
      "outputs": [
        {
          "name": "stdout",
          "output_type": "stream",
          "text": [
            "Best Parameters: {'subsample': 0.8, 'n_estimators': 200, 'max_depth': 5, 'learning_rate': 0.2, 'gamma': 0, 'colsample_bytree': 1.0}\n"
          ]
        }
      ],
      "source": [
        "# Best parameters and model\n",
        "print(\"Best Parameters:\", random_search.best_params_)\n"
      ]
    },
    {
      "cell_type": "code",
      "execution_count": 53,
      "metadata": {},
      "outputs": [],
      "source": [
        "# Extract the best model\n",
        "best_xgb_model = random_search.best_estimator_\n"
      ]
    },
    {
      "cell_type": "code",
      "execution_count": 54,
      "metadata": {},
      "outputs": [
        {
          "name": "stdout",
          "output_type": "stream",
          "text": [
            "Best Accuracy: 0.8737156305608175\n"
          ]
        }
      ],
      "source": [
        "# Optionally, print the best score from the random search\n",
        "print(\"Best Accuracy:\", random_search.best_score_)"
      ]
    },
    {
      "cell_type": "code",
      "execution_count": 55,
      "metadata": {},
      "outputs": [
        {
          "name": "stdout",
          "output_type": "stream",
          "text": [
            "Accuracy: 0.9865136298421808\n",
            "Classification Report:\n",
            "              precision    recall  f1-score   support\n",
            "\n",
            "           0       1.00      1.00      1.00      1172\n",
            "           1       0.98      0.98      0.98      1153\n",
            "           2       0.98      0.98      0.98      1160\n",
            "\n",
            "    accuracy                           0.99      3485\n",
            "   macro avg       0.99      0.99      0.99      3485\n",
            "weighted avg       0.99      0.99      0.99      3485\n",
            "\n"
          ]
        }
      ],
      "source": [
        "# Evaluate the best model\n",
        "y_pred = best_xgb_model.predict(X_test)\n",
        "# Print the accuracy\n",
        "print(\"Accuracy:\", accuracy_score(y_test, y_pred))\n",
        "print(\"Classification Report:\")\n",
        "print(classification_report(y_test, y_pred))"
      ]
    },
    {
      "cell_type": "code",
      "execution_count": 60,
      "metadata": {},
      "outputs": [
        {
          "name": "stdout",
          "output_type": "stream",
          "text": [
            "Training set class distribution: Counter({2: 5807, 1: 5807, 0: 5807})\n",
            "Test set class distribution: Counter({0: 1172, 2: 1160, 1: 1153})\n"
          ]
        }
      ],
      "source": [
        "from collections import Counter\n",
        "\n",
        "print(\"Training set class distribution:\", Counter(y_resampled_encoded))\n",
        "print(\"Test set class distribution:\", Counter(y_test))  # Should remain imbalanced\n"
      ]
    },
    {
      "cell_type": "code",
      "execution_count": 57,
      "metadata": {},
      "outputs": [
        {
          "name": "stdout",
          "output_type": "stream",
          "text": [
            "Original class distribution: Counter({'neutral': 5807, 'positive': 3847, 'negative': 346})\n"
          ]
        }
      ],
      "source": [
        "print(\"Original class distribution:\", Counter(y))\n"
      ]
    },
    {
      "cell_type": "code",
      "execution_count": 62,
      "metadata": {},
      "outputs": [
        {
          "name": "stdout",
          "output_type": "stream",
          "text": [
            "y_test unique values: [0 1 2]\n",
            "y_pred unique values: [0 1 2]\n"
          ]
        }
      ],
      "source": [
        "y_pred = best_xgb_model.predict(X_test)\n",
        "print(\"y_test unique values:\", pd.Series(y_test).unique())\n",
        "print(\"y_pred unique values:\", pd.Series(y_pred).unique()) # y_pred is a numpy array, access it directly"
      ]
    },
    {
      "cell_type": "code",
      "execution_count": 63,
      "metadata": {},
      "outputs": [],
      "source": [
        "from sklearn.metrics import confusion_matrix, classification_report\n",
        "import matplotlib.pyplot as plt\n",
        "import seaborn as sns\n"
      ]
    },
    {
      "cell_type": "code",
      "execution_count": 64,
      "metadata": {},
      "outputs": [],
      "source": [
        "# Generate confusion matrix\n",
        "cm = confusion_matrix(y_test, y_pred)\n"
      ]
    },
    {
      "cell_type": "code",
      "execution_count": 65,
      "metadata": {},
      "outputs": [
        {
          "data": {
            "image/png": "[encoded data removed]",
            "text/plain": [
              "<Figure size 800x600 with 2 Axes>"
            ]
          },
          "metadata": {},
          "output_type": "display_data"
        }
      ],
      "source": [
        "# Create a heatmap for visualization\n",
        "plt.figure(figsize=(8, 6))\n",
        "sns.heatmap(cm, annot=True, fmt=\"d\", cmap=\"Blues\", \n",
        "            xticklabels=['negative', 'neutral', 'positive'], \n",
        "            yticklabels=['negative', 'neutral', 'positive'])\n",
        "plt.xlabel(\"Predicted\")\n",
        "plt.ylabel(\"Actual\")\n",
        "plt.title(\"Confusion Matrix for Sentiment Prediction\")\n",
        "plt.show()\n"
      ]
    },
    {
      "cell_type": "code",
      "execution_count": 66,
      "metadata": {},
      "outputs": [
        {
          "name": "stdout",
          "output_type": "stream",
          "text": [
            "Best XGBClassifier model saved as 'best_xgb_model.pkl'.\n"
          ]
        }
      ],
      "source": [
        "import pickle\n",
        "\n",
        "# Extract the best model from random_search\n",
        "best_xgb_model = random_search.best_estimator_\n",
        "\n",
        "# Save the model using pickle\n",
        "with open('best_xgb_model.pkl', 'wb') as f:\n",
        "    pickle.dump(best_xgb_model, f)\n",
        "\n",
        "print(\"Best XGBClassifier model saved as 'best_xgb_model.pkl'.\")"
      ]
    },
    {
      "cell_type": "code",
      "execution_count": 67,
      "metadata": {
        "colab": {
          "base_uri": "https://localhost:8080/",
          "height": 366
        },
        "id": "gtutoo2LXtyl",
        "outputId": "35791945-79cf-4cea-99a7-379f995ef0a7"
      },
      "outputs": [
        {
          "data": {
            "text/plain": [
              "Poster         https://m.media-amazon.com/images/M/MV5BZGI4NT...\n",
              "Title                          Kingdom of the Planet of the Apes\n",
              "Year                                                      2023.0\n",
              "Genre                                  Action, Adventure, Sci-Fi\n",
              "Rating                                                       7.3\n",
              "Director                                                Wes Ball\n",
              "Cast                      Owen Teague, Freya Allan, Kevin Durand\n",
              "Description    [Many, years, after, the, reign, of, Caesar,, ...\n",
              "Review         im big fan planet ape nailed one usually start...\n",
              "Sentiment                                                neutral\n",
              "Name: 1, dtype: object"
            ]
          },
          "execution_count": 67,
          "metadata": {},
          "output_type": "execute_result"
        }
      ],
      "source": [
        "movies.iloc[1]"
      ]
    },
    {
      "cell_type": "code",
      "execution_count": 68,
      "metadata": {
        "colab": {
          "base_uri": "https://localhost:8080/",
          "height": 72
        },
        "id": "-SbH1T4aXDFq",
        "outputId": "5a134153-e95d-4d6b-dc68-32a38f19fbc9"
      },
      "outputs": [
        {
          "data": {
            "text/plain": [
              "'im big fan planet ape nailed one usually start milking series like come bad amazing cinematography great acting succeeded movie deserve watched big screen one movie intrigued interested storyline unlike lot movie ive seen year im looking forward come assure watching matter go grab popcorn enjoy phenomenal graphic movie offer godspeed'"
            ]
          },
          "execution_count": 68,
          "metadata": {},
          "output_type": "execute_result"
        }
      ],
      "source": [
        "movies['Review'][1]"
      ]
    },
    {
      "cell_type": "code",
      "execution_count": 72,
      "metadata": {
        "colab": {
          "base_uri": "https://localhost:8080/",
          "height": 90
        },
        "id": "cp5wSef_W_zx",
        "outputId": "f12bd4c0-2cbf-43d4-8d97-cf0c75ba28ee"
      },
      "outputs": [
        {
          "name": "stdout",
          "output_type": "stream",
          "text": [
            "Review: got austin premier sxsw whole theatre went nut movie emily ryan crazy chemistry obviously freaking amazing time shooting ton fun packed incredible stunt none cgi funny charming exciting every second camera work flawless cinematography beautiful casting perfect costume cool af dog fan original series loved movie celebration stund craft people beautiful reminiscence original defo watching officially launch god love ryan emily thank much david leitch making happen seriously whatever touch incredibly fun watch cant wait next one\n",
            "Predicted Sentiment: positive\n",
            "\n"
          ]
        }
      ],
      "source": [
        "import numpy as np\n",
        "# Define new reviews for prediction\n",
        "new_reviews = [\n",
        "   'got austin premier sxsw whole theatre went nut movie emily ryan crazy chemistry obviously freaking amazing time shooting ton fun packed incredible stunt none cgi funny charming exciting every second camera work flawless cinematography beautiful casting perfect costume cool af dog fan original series loved movie celebration stund craft people beautiful reminiscence original defo watching officially launch god love ryan emily thank much david leitch making happen seriously whatever touch incredibly fun watch cant wait next one'\n",
        "]\n",
        "# Preprocess the new reviews (similar to training data preprocessing)\n",
        "def preprocess_review(review):\n",
        "    review = review.lower()\n",
        "    review = re.sub(r'http\\S+|www\\S+|https\\S+', '', review)\n",
        "    review = re.sub(r'@\\w+|#\\w+', '', review)\n",
        "    review = re.sub(r'[^a-z\\s]', '', review)\n",
        "    words = word_tokenize(review)\n",
        "    words = [word for word in words if word not in stop_words]\n",
        "    words = [lemmatizer.lemmatize(word) for word in words]\n",
        "    return TreebankWordDetokenizer().detokenize(words)\n",
        "# Preprocess each review\n",
        "processed_reviews = [preprocess_review(review) for review in new_reviews]\n",
        "# Transform the reviews using the TF-IDF vectorizer\n",
        "tfidf_features = tfidf_vectorizer.transform(processed_reviews).toarray()\n",
        "# Predict sentiments\n",
        "predicted_sentiments = best_xgb_model.predict(tfidf_features)\n",
        "# Map numerical labels back to sentiment labels\n",
        "label_mapping = {0: \"negative\", 1: \"neutral\", 2: \"positive\"}\n",
        "predicted_sentiments_labels = [label_mapping[label] for label in predicted_sentiments]\n",
        "# Display predictions\n",
        "for review, sentiment in zip(new_reviews, predicted_sentiments_labels):\n",
        "    print(f\"Review: {review}\\nPredicted Sentiment: {sentiment}\\n\")\n"
      ]
    },
    {
      "cell_type": "code",
      "execution_count": 73,
      "metadata": {
        "id": "OHYgFmxim1oL"
      },
      "outputs": [],
      "source": [
        "# Create combined features with weighted importance for each feature\n",
        "movies['combined_features'] = (\n",
        "    movies['Title'] + ' ' +\n",
        "    movies['Title'] + ' ' +\n",
        "    movies['Genre'].astype(str) + ' ' +  # Genre gets a higher weight\n",
        "    movies['Genre'].astype(str) + ' ' +  # Repeat Genre to simulate higher weight\n",
        "    movies['Director'].astype(str) + ' ' +  # Director gets moderate weight\n",
        "    movies['Director'].astype(str) + ' ' +  # Repeat Director for higher weight\n",
        "    movies['Cast'].astype(str) + ' ' +\n",
        "    movies['Description'].astype(str)\n",
        ")\n"
      ]
    },
    {
      "cell_type": "code",
      "execution_count": 74,
      "metadata": {
        "id": "D3HLo9zzm4JU"
      },
      "outputs": [],
      "source": [
        "# Vectorize the combined features\n",
        "vectorizer = TfidfVectorizer(stop_words='english',max_features=1000)\n",
        "tfidf_matrix = vectorizer.fit_transform(movies['combined_features'])\n"
      ]
    },
    {
      "cell_type": "code",
      "execution_count": 75,
      "metadata": {},
      "outputs": [],
      "source": [
        "import pickle\n",
        "\n",
        "# Save the vectorizer\n",
        "with open('vectorizer_recommendation.pkl', 'wb') as f:\n",
        "    pickle.dump(vectorizer, f)\n",
        "\n",
        "# Save the TF-IDF matrix\n",
        "with open('tfidf_matrix_recommendation.pkl', 'wb') as f:\n",
        "    pickle.dump(tfidf_matrix, f)"
      ]
    },
    {
      "cell_type": "code",
      "execution_count": 76,
      "metadata": {
        "id": "RpcbrRIMnYly"
      },
      "outputs": [],
      "source": [
        "\n",
        "from fuzzywuzzy import process  # Import the process module\n",
        "from sklearn.metrics.pairwise import cosine_similarity"
      ]
    },
    {
      "cell_type": "code",
      "execution_count": 78,
      "metadata": {
        "id": "4tqTfs4JnAls"
      },
      "outputs": [],
      "source": [
        "# Function to get movie recommendations based on all features\n",
        "def get_recommendations(movie_title, data, tfidf_matrix, num_recommendations=5, similarity_threshold=0.2):\n",
        "    # Use fuzzy matching to find the best movie title match\n",
        "    best_match = process.extractOne(movie_title, data['Title'].values)\n",
        "    if not best_match or best_match[1] < 80:  # If the match score is too low\n",
        "        return \"Movie not found in the dataset.\"\n",
        "\n",
        "    movie_title = best_match[0]\n",
        "\n",
        "    # Find the index of the movie in the dataset\n",
        "    movie_idx = data[data['Title'] == movie_title].index[0]\n",
        "\n",
        "    # Calculate the cosine similarity between the movie and all other movies based on combined features\n",
        "    cosine_sim = cosine_similarity(tfidf_matrix[movie_idx], tfidf_matrix)\n",
        "\n",
        "    # Sort the movies based on similarity (excluding the input movie)\n",
        "    similar_indices = cosine_sim.argsort()[0][::-1][1:num_recommendations+1]\n",
        "\n",
        "    # Filter out recommendations that have low similarity\n",
        "    recommendations = []\n",
        "    for idx in similar_indices:\n",
        "        if cosine_sim[0][idx] >= similarity_threshold:\n",
        "            recommendations.append(data.iloc[idx][['Title', 'Genre', 'Director', 'Cast', 'Description']].to_dict())\n",
        "\n",
        "    if not recommendations:\n",
        "        return \"No recommendations found with sufficient similarity.\"\n",
        "\n",
        "    # Format the recommendations as a DataFrame\n",
        "    recommendations_df = pd.DataFrame(recommendations)\n",
        "\n",
        "    return recommendations_df"
      ]
    },
    {
      "cell_type": "code",
      "execution_count": 79,
      "metadata": {
        "colab": {
          "base_uri": "https://localhost:8080/",
          "height": 397
        },
        "id": "ehJg4EJMnC0S",
        "outputId": "c5db8c3a-02ab-4786-88e9-e1e2035d2318"
      },
      "outputs": [
        {
          "data": {
            "text/plain": [
              "Poster               https://m.media-amazon.com/images/M/MV5BZGI4NT...\n",
              "Title                                Kingdom of the Planet of the Apes\n",
              "Year                                                            2023.0\n",
              "Genre                                        Action, Adventure, Sci-Fi\n",
              "Rating                                                             7.3\n",
              "Director                                                      Wes Ball\n",
              "Cast                            Owen Teague, Freya Allan, Kevin Durand\n",
              "Description          [Many, years, after, the, reign, of, Caesar,, ...\n",
              "Review               im big fan planet ape nailed one usually start...\n",
              "Sentiment                                                      neutral\n",
              "combined_features    Kingdom of the Planet of the Apes Kingdom of t...\n",
              "Name: 1, dtype: object"
            ]
          },
          "execution_count": 79,
          "metadata": {},
          "output_type": "execute_result"
        }
      ],
      "source": [
        "movies.iloc[1]"
      ]
    },
    {
      "cell_type": "code",
      "execution_count": 80,
      "metadata": {
        "colab": {
          "base_uri": "https://localhost:8080/",
          "height": 1000
        },
        "id": "hz1wQc3jnIWr",
        "outputId": "69adc18d-6b8a-453a-cdf9-65d1f043701e"
      },
      "outputs": [
        {
          "data": {
            "text/html": [
              "<div>\n",
              "<style scoped>\n",
              "    .dataframe tbody tr th:only-of-type {\n",
              "        vertical-align: middle;\n",
              "    }\n",
              "\n",
              "    .dataframe tbody tr th {\n",
              "        vertical-align: top;\n",
              "    }\n",
              "\n",
              "    .dataframe thead th {\n",
              "        text-align: right;\n",
              "    }\n",
              "</style>\n",
              "<table border=\"1\" class=\"dataframe\">\n",
              "  <thead>\n",
              "    <tr style=\"text-align: right;\">\n",
              "      <th></th>\n",
              "      <th>Poster</th>\n",
              "      <th>Title</th>\n",
              "      <th>Year</th>\n",
              "      <th>Genre</th>\n",
              "      <th>Rating</th>\n",
              "      <th>Director</th>\n",
              "      <th>Cast</th>\n",
              "      <th>Description</th>\n",
              "      <th>Review</th>\n",
              "      <th>Sentiment</th>\n",
              "      <th>combined_features</th>\n",
              "    </tr>\n",
              "  </thead>\n",
              "  <tbody>\n",
              "    <tr>\n",
              "      <th>0</th>\n",
              "      <td>https://m.media-amazon.com/images/M/MV5BYWRkZj...</td>\n",
              "      <td>The Idea of You</td>\n",
              "      <td>2023.0</td>\n",
              "      <td>Comedy, Drama, Romance</td>\n",
              "      <td>6.4</td>\n",
              "      <td>Michael Showalter</td>\n",
              "      <td>Anne Hathaway, Nicholas Galitzine, Ella Rubin</td>\n",
              "      <td>[Solène,, a, 40-year-old, single, mom,, begins...</td>\n",
              "      <td>film well reaction wonderful example modern hy...</td>\n",
              "      <td>positive</td>\n",
              "      <td>The Idea of You The Idea of You Comedy, Drama,...</td>\n",
              "    </tr>\n",
              "    <tr>\n",
              "      <th>1</th>\n",
              "      <td>https://m.media-amazon.com/images/M/MV5BZGI4NT...</td>\n",
              "      <td>Kingdom of the Planet of the Apes</td>\n",
              "      <td>2023.0</td>\n",
              "      <td>Action, Adventure, Sci-Fi</td>\n",
              "      <td>7.3</td>\n",
              "      <td>Wes Ball</td>\n",
              "      <td>Owen Teague, Freya Allan, Kevin Durand</td>\n",
              "      <td>[Many, years, after, the, reign, of, Caesar,, ...</td>\n",
              "      <td>im big fan planet ape nailed one usually start...</td>\n",
              "      <td>neutral</td>\n",
              "      <td>Kingdom of the Planet of the Apes Kingdom of t...</td>\n",
              "    </tr>\n",
              "    <tr>\n",
              "      <th>2</th>\n",
              "      <td>https://m.media-amazon.com/images/M/MV5BZjIyOT...</td>\n",
              "      <td>Unfrosted</td>\n",
              "      <td>2023.0</td>\n",
              "      <td>Biography, Comedy, History</td>\n",
              "      <td>5.5</td>\n",
              "      <td>Jerry Seinfeld</td>\n",
              "      <td>Isaac Bae, Jerry Seinfeld, Chris Rickett</td>\n",
              "      <td>[In, 1963, Michigan,, business, rivals, Kellog...</td>\n",
              "      <td>pretty much worst criticism lay comedian true ...</td>\n",
              "      <td>neutral</td>\n",
              "      <td>Unfrosted Unfrosted Biography, Comedy, History...</td>\n",
              "    </tr>\n",
              "    <tr>\n",
              "      <th>3</th>\n",
              "      <td>https://m.media-amazon.com/images/M/MV5BMjA5Zj...</td>\n",
              "      <td>The Fall Guy</td>\n",
              "      <td>2023.0</td>\n",
              "      <td>Action, Comedy, Drama</td>\n",
              "      <td>7.3</td>\n",
              "      <td>David Leitch</td>\n",
              "      <td>Ryan Gosling, Emily Blunt, Aaron Taylor-Johnson</td>\n",
              "      <td>[A, down-and-out, stuntman, must, find, the, m...</td>\n",
              "      <td>got austin premier sxsw whole theatre went nut...</td>\n",
              "      <td>positive</td>\n",
              "      <td>The Fall Guy The Fall Guy Action, Comedy, Dram...</td>\n",
              "    </tr>\n",
              "    <tr>\n",
              "      <th>4</th>\n",
              "      <td>https://m.media-amazon.com/images/M/MV5BNTk1MT...</td>\n",
              "      <td>Challengers</td>\n",
              "      <td>2023.0</td>\n",
              "      <td>Drama, Romance, Sport</td>\n",
              "      <td>7.7</td>\n",
              "      <td>Luca Guadagnino</td>\n",
              "      <td>Zendaya, Mike Faist, Josh O'Connor</td>\n",
              "      <td>[Tashi,, a, former, tennis, prodigy, turned, c...</td>\n",
              "      <td>tough one liked concept overall story however ...</td>\n",
              "      <td>neutral</td>\n",
              "      <td>Challengers Challengers Drama, Romance, Sport ...</td>\n",
              "    </tr>\n",
              "  </tbody>\n",
              "</table>\n",
              "</div>"
            ],
            "text/plain": [
              "                                              Poster  \\\n",
              "0  https://m.media-amazon.com/images/M/MV5BYWRkZj...   \n",
              "1  https://m.media-amazon.com/images/M/MV5BZGI4NT...   \n",
              "2  https://m.media-amazon.com/images/M/MV5BZjIyOT...   \n",
              "3  https://m.media-amazon.com/images/M/MV5BMjA5Zj...   \n",
              "4  https://m.media-amazon.com/images/M/MV5BNTk1MT...   \n",
              "\n",
              "                               Title    Year                       Genre  \\\n",
              "0                    The Idea of You  2023.0      Comedy, Drama, Romance   \n",
              "1  Kingdom of the Planet of the Apes  2023.0   Action, Adventure, Sci-Fi   \n",
              "2                          Unfrosted  2023.0  Biography, Comedy, History   \n",
              "3                       The Fall Guy  2023.0       Action, Comedy, Drama   \n",
              "4                        Challengers  2023.0       Drama, Romance, Sport   \n",
              "\n",
              "   Rating           Director                                             Cast  \\\n",
              "0     6.4  Michael Showalter    Anne Hathaway, Nicholas Galitzine, Ella Rubin   \n",
              "1     7.3           Wes Ball           Owen Teague, Freya Allan, Kevin Durand   \n",
              "2     5.5     Jerry Seinfeld         Isaac Bae, Jerry Seinfeld, Chris Rickett   \n",
              "3     7.3       David Leitch  Ryan Gosling, Emily Blunt, Aaron Taylor-Johnson   \n",
              "4     7.7    Luca Guadagnino               Zendaya, Mike Faist, Josh O'Connor   \n",
              "\n",
              "                                         Description  \\\n",
              "0  [Solène,, a, 40-year-old, single, mom,, begins...   \n",
              "1  [Many, years, after, the, reign, of, Caesar,, ...   \n",
              "2  [In, 1963, Michigan,, business, rivals, Kellog...   \n",
              "3  [A, down-and-out, stuntman, must, find, the, m...   \n",
              "4  [Tashi,, a, former, tennis, prodigy, turned, c...   \n",
              "\n",
              "                                              Review Sentiment  \\\n",
              "0  film well reaction wonderful example modern hy...  positive   \n",
              "1  im big fan planet ape nailed one usually start...   neutral   \n",
              "2  pretty much worst criticism lay comedian true ...   neutral   \n",
              "3  got austin premier sxsw whole theatre went nut...  positive   \n",
              "4  tough one liked concept overall story however ...   neutral   \n",
              "\n",
              "                                   combined_features  \n",
              "0  The Idea of You The Idea of You Comedy, Drama,...  \n",
              "1  Kingdom of the Planet of the Apes Kingdom of t...  \n",
              "2  Unfrosted Unfrosted Biography, Comedy, History...  \n",
              "3  The Fall Guy The Fall Guy Action, Comedy, Dram...  \n",
              "4  Challengers Challengers Drama, Romance, Sport ...  "
            ]
          },
          "execution_count": 80,
          "metadata": {},
          "output_type": "execute_result"
        }
      ],
      "source": [
        "movies.head(5)"
      ]
    },
    {
      "cell_type": "code",
      "execution_count": 81,
      "metadata": {},
      "outputs": [
        {
          "data": {
            "text/plain": [
              "'film well reaction wonderful example modern hypocrisythe story adult woman attracted young guy year younger young enough son see boy band concert people reaction start movie trailer beyond get praise story destruction stigma happiness woman remain attractive age man happiness available anyone u judge someone elses lovebut story man age attracted girl girl band girl year younger would get story disgusting creep find way overcome midlife crisis preadatory pursue girl young enough daughter'"
            ]
          },
          "execution_count": 81,
          "metadata": {},
          "output_type": "execute_result"
        }
      ],
      "source": [
        "movies['Review'][0]"
      ]
    },
    {
      "cell_type": "code",
      "execution_count": 82,
      "metadata": {
        "colab": {
          "base_uri": "https://localhost:8080/"
        },
        "id": "tLaeglk9nQQ7",
        "outputId": "1a1f105f-79d8-44ae-c279-8e3f2ffb7fae"
      },
      "outputs": [
        {
          "name": "stdout",
          "output_type": "stream",
          "text": [
            "Recommendations for  The Idea of You\t:\n",
            "                                  Title                   Genre  \\\n",
            "0  Gouttes d'eau sur pierres brûlantes  Comedy, Drama, Romance   \n",
            "1               The 40 Year Old Virgin         Comedy, Romance   \n",
            "2             The Five-Year Engagement  Comedy, Drama, Romance   \n",
            "3                 Call Me by Your Name          Drama, Romance   \n",
            "4                           Home Again  Comedy, Drama, Romance   \n",
            "\n",
            "              Director                                               Cast  \\\n",
            "0        François Ozon    Bernard Giraudeau, Malik Zidi, Ludivine Sagnier   \n",
            "1          Judd Apatow          Steve Carell, Catherine Keener, Paul Rudd   \n",
            "2     Nicholas Stoller              Jason Segel, Emily Blunt, Chris Pratt   \n",
            "3      Luca Guadagnino  Timothée Chalamet, Armie Hammer, Michael Stuhl...   \n",
            "4  Hallie Meyers-Shyer   Reese Witherspoon, Michael Sheen, Candice Bergen   \n",
            "\n",
            "                                         Description  \n",
            "0  [In, 1970s, Germany,, a, 50-year-old, business...  \n",
            "1  [Goaded, by, his, buddies,, a, nerdy, guy, who...  \n",
            "2  [One, year, after, meeting,, Tom, proposes, to...  \n",
            "3  [In, 1980s, Italy,, romance, blossoms, between...  \n",
            "4  [Life, for, a, single, mom, in, Los, Angeles, ...  \n"
          ]
        }
      ],
      "source": [
        "# Example usage\n",
        "movie_to_recommend = \" The Idea of You\t\"  # Replace with any movie in your dataset\n",
        "recommendations = get_recommendations(movie_to_recommend, movies, tfidf_matrix)\n",
        "print(f\"Recommendations for {movie_to_recommend}:\\n\", recommendations)"
      ]
    },
    {
      "cell_type": "code",
      "execution_count": 91,
      "metadata": {
        "id": "qokuaVD-pG7-"
      },
      "outputs": [],
      "source": [
        "import pickle"
      ]
    },
    {
      "cell_type": "code",
      "execution_count": 44,
      "metadata": {},
      "outputs": [],
      "source": [
        "movies.to_pickle('movies1.pkl')  # Save DataFrame to a pickle file"
      ]
    },
    {
      "cell_type": "code",
      "execution_count": null,
      "metadata": {},
      "outputs": [],
      "source": [
        "import pycaret\n",
        "print(pycaret.__version__)\n"
      ]
    }
  ],
  "metadata": {
    "colab": {
      "provenance": []
    },
    "kernelspec": {
      "display_name": "venv",
      "language": "python",
      "name": "python3"
    },
    "language_info": {
      "codemirror_mode": {
        "name": "ipython",
        "version": 3
      },
      "file_extension": ".py",
      "mimetype": "text/x-python",
      "name": "python",
      "nbconvert_exporter": "python",
      "pygments_lexer": "ipython3",
      "version": "3.9.0"
    },
    "widgets": {
      "application/vnd.jupyter.widget-state+json": {
        "0bc736757d2a415d8be57155d7ac9f27": {
          "model_module": "@jupyter-widgets/base",
          "model_module_version": "1.2.0",
          "model_name": "LayoutModel",
          "state": {
            "_model_module": "@jupyter-widgets/base",
            "_model_module_version": "1.2.0",
            "_model_name": "LayoutModel",
            "_view_count": null,
            "_view_module": "@jupyter-widgets/base",
            "_view_module_version": "1.2.0",
            "_view_name": "LayoutView",
            "align_content": null,
            "align_items": null,
            "align_self": null,
            "border": null,
            "bottom": null,
            "display": null,
            "flex": null,
            "flex_flow": null,
            "grid_area": null,
            "grid_auto_columns": null,
            "grid_auto_flow": null,
            "grid_auto_rows": null,
            "grid_column": null,
            "grid_gap": null,
            "grid_row": null,
            "grid_template_areas": null,
            "grid_template_columns": null,
            "grid_template_rows": null,
            "height": null,
            "justify_content": null,
            "justify_items": null,
            "left": null,
            "margin": null,
            "max_height": null,
            "max_width": null,
            "min_height": null,
            "min_width": null,
            "object_fit": null,
            "object_position": null,
            "order": null,
            "overflow": null,
            "overflow_x": null,
            "overflow_y": null,
            "padding": null,
            "right": null,
            "top": null,
            "visibility": null,
            "width": null
          }
        },
        "0c2a7195b89f46e6be958b6167012c33": {
          "model_module": "@jupyter-widgets/controls",
          "model_module_version": "1.5.0",
          "model_name": "HTMLModel",
          "state": {
            "_dom_classes": [],
            "_model_module": "@jupyter-widgets/controls",
            "_model_module_version": "1.5.0",
            "_model_name": "HTMLModel",
            "_view_count": null,
            "_view_module": "@jupyter-widgets/controls",
            "_view_module_version": "1.5.0",
            "_view_name": "HTMLView",
            "description": "",
            "description_tooltip": null,
            "layout": "IPY_MODEL_23f8d2c7b71749419d6e7e9b44ef2efe",
            "placeholder": "​",
            "style": "IPY_MODEL_fe36941c37234fbab886a552b949f844",
            "value": " 33/33 [17:12&lt;00:00, 64.65s/it]"
          }
        },
        "23f8d2c7b71749419d6e7e9b44ef2efe": {
          "model_module": "@jupyter-widgets/base",
          "model_module_version": "1.2.0",
          "model_name": "LayoutModel",
          "state": {
            "_model_module": "@jupyter-widgets/base",
            "_model_module_version": "1.2.0",
            "_model_name": "LayoutModel",
            "_view_count": null,
            "_view_module": "@jupyter-widgets/base",
            "_view_module_version": "1.2.0",
            "_view_name": "LayoutView",
            "align_content": null,
            "align_items": null,
            "align_self": null,
            "border": null,
            "bottom": null,
            "display": null,
            "flex": null,
            "flex_flow": null,
            "grid_area": null,
            "grid_auto_columns": null,
            "grid_auto_flow": null,
            "grid_auto_rows": null,
            "grid_column": null,
            "grid_gap": null,
            "grid_row": null,
            "grid_template_areas": null,
            "grid_template_columns": null,
            "grid_template_rows": null,
            "height": null,
            "justify_content": null,
            "justify_items": null,
            "left": null,
            "margin": null,
            "max_height": null,
            "max_width": null,
            "min_height": null,
            "min_width": null,
            "object_fit": null,
            "object_position": null,
            "order": null,
            "overflow": null,
            "overflow_x": null,
            "overflow_y": null,
            "padding": null,
            "right": null,
            "top": null,
            "visibility": null,
            "width": null
          }
        },
        "337d12baa8114cbf945c7f638f08e9b3": {
          "model_module": "@jupyter-widgets/controls",
          "model_module_version": "1.5.0",
          "model_name": "FloatProgressModel",
          "state": {
            "_dom_classes": [],
            "_model_module": "@jupyter-widgets/controls",
            "_model_module_version": "1.5.0",
            "_model_name": "FloatProgressModel",
            "_view_count": null,
            "_view_module": "@jupyter-widgets/controls",
            "_view_module_version": "1.5.0",
            "_view_name": "ProgressView",
            "bar_style": "",
            "description": "",
            "description_tooltip": null,
            "layout": "IPY_MODEL_0bc736757d2a415d8be57155d7ac9f27",
            "max": 33,
            "min": 0,
            "orientation": "horizontal",
            "style": "IPY_MODEL_ce8f239f29544d5197c823f6b17b747b",
            "value": 33
          }
        },
        "3f74807919324deca06c77ae4c445b3f": {
          "model_module": "@jupyter-widgets/controls",
          "model_module_version": "1.5.0",
          "model_name": "HTMLModel",
          "state": {
            "_dom_classes": [],
            "_model_module": "@jupyter-widgets/controls",
            "_model_module_version": "1.5.0",
            "_model_name": "HTMLModel",
            "_view_count": null,
            "_view_module": "@jupyter-widgets/controls",
            "_view_module_version": "1.5.0",
            "_view_name": "HTMLView",
            "description": "",
            "description_tooltip": null,
            "layout": "IPY_MODEL_e486f1f9f7fa48428a2bd1a07f4faf1c",
            "placeholder": "​",
            "style": "IPY_MODEL_bc5200ed0f634adb992352f079622e26",
            "value": "Processing: 100%"
          }
        },
        "76bdddb327664680879255c0934285d2": {
          "model_module": "@jupyter-widgets/base",
          "model_module_version": "1.2.0",
          "model_name": "LayoutModel",
          "state": {
            "_model_module": "@jupyter-widgets/base",
            "_model_module_version": "1.2.0",
            "_model_name": "LayoutModel",
            "_view_count": null,
            "_view_module": "@jupyter-widgets/base",
            "_view_module_version": "1.2.0",
            "_view_name": "LayoutView",
            "align_content": null,
            "align_items": null,
            "align_self": null,
            "border": null,
            "bottom": null,
            "display": null,
            "flex": null,
            "flex_flow": null,
            "grid_area": null,
            "grid_auto_columns": null,
            "grid_auto_flow": null,
            "grid_auto_rows": null,
            "grid_column": null,
            "grid_gap": null,
            "grid_row": null,
            "grid_template_areas": null,
            "grid_template_columns": null,
            "grid_template_rows": null,
            "height": null,
            "justify_content": null,
            "justify_items": null,
            "left": null,
            "margin": null,
            "max_height": null,
            "max_width": null,
            "min_height": null,
            "min_width": null,
            "object_fit": null,
            "object_position": null,
            "order": null,
            "overflow": null,
            "overflow_x": null,
            "overflow_y": null,
            "padding": null,
            "right": null,
            "top": null,
            "visibility": "hidden",
            "width": null
          }
        },
        "bc5200ed0f634adb992352f079622e26": {
          "model_module": "@jupyter-widgets/controls",
          "model_module_version": "1.5.0",
          "model_name": "DescriptionStyleModel",
          "state": {
            "_model_module": "@jupyter-widgets/controls",
            "_model_module_version": "1.5.0",
            "_model_name": "DescriptionStyleModel",
            "_view_count": null,
            "_view_module": "@jupyter-widgets/base",
            "_view_module_version": "1.2.0",
            "_view_name": "StyleView",
            "description_width": ""
          }
        },
        "ce8f239f29544d5197c823f6b17b747b": {
          "model_module": "@jupyter-widgets/controls",
          "model_module_version": "1.5.0",
          "model_name": "ProgressStyleModel",
          "state": {
            "_model_module": "@jupyter-widgets/controls",
            "_model_module_version": "1.5.0",
            "_model_name": "ProgressStyleModel",
            "_view_count": null,
            "_view_module": "@jupyter-widgets/base",
            "_view_module_version": "1.2.0",
            "_view_name": "StyleView",
            "bar_color": null,
            "description_width": ""
          }
        },
        "d1c758f7e75840b6a0aadb2c1ecaaae9": {
          "model_module": "@jupyter-widgets/controls",
          "model_module_version": "1.5.0",
          "model_name": "HBoxModel",
          "state": {
            "_dom_classes": [],
            "_model_module": "@jupyter-widgets/controls",
            "_model_module_version": "1.5.0",
            "_model_name": "HBoxModel",
            "_view_count": null,
            "_view_module": "@jupyter-widgets/controls",
            "_view_module_version": "1.5.0",
            "_view_name": "HBoxView",
            "box_style": "",
            "children": [
              "IPY_MODEL_3f74807919324deca06c77ae4c445b3f",
              "IPY_MODEL_337d12baa8114cbf945c7f638f08e9b3",
              "IPY_MODEL_0c2a7195b89f46e6be958b6167012c33"
            ],
            "layout": "IPY_MODEL_76bdddb327664680879255c0934285d2"
          }
        },
        "e486f1f9f7fa48428a2bd1a07f4faf1c": {
          "model_module": "@jupyter-widgets/base",
          "model_module_version": "1.2.0",
          "model_name": "LayoutModel",
          "state": {
            "_model_module": "@jupyter-widgets/base",
            "_model_module_version": "1.2.0",
            "_model_name": "LayoutModel",
            "_view_count": null,
            "_view_module": "@jupyter-widgets/base",
            "_view_module_version": "1.2.0",
            "_view_name": "LayoutView",
            "align_content": null,
            "align_items": null,
            "align_self": null,
            "border": null,
            "bottom": null,
            "display": null,
            "flex": null,
            "flex_flow": null,
            "grid_area": null,
            "grid_auto_columns": null,
            "grid_auto_flow": null,
            "grid_auto_rows": null,
            "grid_column": null,
            "grid_gap": null,
            "grid_row": null,
            "grid_template_areas": null,
            "grid_template_columns": null,
            "grid_template_rows": null,
            "height": null,
            "justify_content": null,
            "justify_items": null,
            "left": null,
            "margin": null,
            "max_height": null,
            "max_width": null,
            "min_height": null,
            "min_width": null,
            "object_fit": null,
            "object_position": null,
            "order": null,
            "overflow": null,
            "overflow_x": null,
            "overflow_y": null,
            "padding": null,
            "right": null,
            "top": null,
            "visibility": null,
            "width": null
          }
        },
        "fe36941c37234fbab886a552b949f844": {
          "model_module": "@jupyter-widgets/controls",
          "model_module_version": "1.5.0",
          "model_name": "DescriptionStyleModel",
          "state": {
            "_model_module": "@jupyter-widgets/controls",
            "_model_module_version": "1.5.0",
            "_model_name": "DescriptionStyleModel",
            "_view_count": null,
            "_view_module": "@jupyter-widgets/base",
            "_view_module_version": "1.2.0",
            "_view_name": "StyleView",
            "description_width": ""
          }
        }
      }
    }
  },
  "nbformat": 4,
  "nbformat_minor": 0
}
